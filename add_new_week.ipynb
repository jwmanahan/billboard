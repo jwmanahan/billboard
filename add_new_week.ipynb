{
 "cells": [
  {
   "cell_type": "code",
   "execution_count": 1,
   "id": "d70db714",
   "metadata": {
    "scrolled": true
   },
   "outputs": [],
   "source": [
    "# pip install duckdb\n",
    "# pip install jupysql\n",
    "# pip install notebook\n",
    "# pip install tabulate\n",
    "# pip install sqlalchemy"
   ]
  },
  {
   "cell_type": "code",
   "execution_count": 2,
   "id": "90df98ff",
   "metadata": {
    "scrolled": true
   },
   "outputs": [],
   "source": [
    "# If on windows, this only works if you're running Jupyter as an admin\n",
    "# pip install duckdb-engine"
   ]
  },
  {
   "cell_type": "code",
   "execution_count": 1,
   "id": "5b18b735",
   "metadata": {},
   "outputs": [],
   "source": [
    "import numpy as np\n",
    "import pandas as pd\n",
    "from matplotlib import pyplot as plt, ticker as mtick\n",
    "import seaborn as sns\n",
    "import duckdb\n",
    "import sqlalchemy\n",
    "from datetime import date\n",
    "import json\n",
    "import pathlib\n",
    "# import importlib\n",
    "%load_ext sql"
   ]
  },
  {
   "cell_type": "code",
   "execution_count": 2,
   "id": "74a962ac",
   "metadata": {},
   "outputs": [],
   "source": [
    "sns.set(\n",
    "    rc={\n",
    "        \"figure.figsize\" : (8, 5)\n",
    "        , \"axes.facecolor\" : \"xkcd:white\"\n",
    "        , \"figure.facecolor\" : \"xkcd:parchment\"\n",
    "        , 'grid.color' : 'xkcd:light gray'\n",
    "        , 'axes.edgecolor' : 'black'\n",
    "    }\n",
    ")"
   ]
  },
  {
   "cell_type": "markdown",
   "id": "51d24aa5",
   "metadata": {},
   "source": [
    "# Change the billboard_observation_date!"
   ]
  },
  {
   "cell_type": "code",
   "execution_count": 3,
   "id": "ab567b6f",
   "metadata": {},
   "outputs": [],
   "source": [
    "current_date = date.today().strftime('%Y-%m-%d')\n",
    "billboard_observation_date = '2024-01-06'"
   ]
  },
  {
   "cell_type": "code",
   "execution_count": 4,
   "id": "b2ed042b",
   "metadata": {},
   "outputs": [],
   "source": [
    "# Set up SQL connection\n",
    "%config SqlMagic.autopandas = True\n",
    "%config SqlMagic.feedback = False\n",
    "%config SqlMagic.displaycon = False"
   ]
  },
  {
   "cell_type": "code",
   "execution_count": 5,
   "id": "4d7c12c1",
   "metadata": {},
   "outputs": [],
   "source": [
    "# Replace with your filepath. Forward slashes work for both Mac and Windows\n",
    "%sql duckdb:///C:/Users/Admin/billboard/raw_db.duckdb"
   ]
  },
  {
   "cell_type": "code",
   "execution_count": 6,
   "id": "d8044a9d",
   "metadata": {},
   "outputs": [
    {
     "data": {
      "text/html": [
       "<div>\n",
       "<style scoped>\n",
       "    .dataframe tbody tr th:only-of-type {\n",
       "        vertical-align: middle;\n",
       "    }\n",
       "\n",
       "    .dataframe tbody tr th {\n",
       "        vertical-align: top;\n",
       "    }\n",
       "\n",
       "    .dataframe thead th {\n",
       "        text-align: right;\n",
       "    }\n",
       "</style>\n",
       "<table border=\"1\" class=\"dataframe\">\n",
       "  <thead>\n",
       "    <tr style=\"text-align: right;\">\n",
       "      <th></th>\n",
       "      <th>Success</th>\n",
       "    </tr>\n",
       "  </thead>\n",
       "  <tbody>\n",
       "  </tbody>\n",
       "</table>\n",
       "</div>"
      ],
      "text/plain": [
       "Empty DataFrame\n",
       "Columns: [Success]\n",
       "Index: []"
      ]
     },
     "execution_count": 6,
     "metadata": {},
     "output_type": "execute_result"
    }
   ],
   "source": [
    "# Test connection\n",
    "%sql USE raw_db;\n",
    "%sql USE raw_db.billboard;"
   ]
  },
  {
   "cell_type": "markdown",
   "id": "460d04f0",
   "metadata": {},
   "source": [
    "# Update upload/rank_by_name"
   ]
  },
  {
   "cell_type": "code",
   "execution_count": 7,
   "id": "17bf33a1",
   "metadata": {},
   "outputs": [],
   "source": [
    "# Update this for this week's rankings in upload/rank_by_name.py\n",
    "# This is easier in an IDE that allows opt+arrow_key to move lines up and down"
   ]
  },
  {
   "cell_type": "code",
   "execution_count": 8,
   "id": "53fda979",
   "metadata": {},
   "outputs": [
    {
     "data": {
      "text/plain": [
       "['I Remember Everything',\n",
       " 'Last Night',\n",
       " \"Thinkin' Bout Me\",\n",
       " 'Fast Car',\n",
       " 'White Horse',\n",
       " '...',\n",
       " 'Love You Again',\n",
       " 'Fearless (The Echo)',\n",
       " 'Out Of That Truck',\n",
       " 'Boys Back Home',\n",
       " \"The Good I'll Do\"]"
      ]
     },
     "execution_count": 8,
     "metadata": {},
     "output_type": "execute_result"
    }
   ],
   "source": [
    "# TODO: figure out importlib.reload() here so I don't have to kill the kernel to reload\n",
    "# from upload.rank_by_name import rankings\n",
    "from upload.backfill_rank_by_name import rankings\n",
    "\n",
    "if len(rankings) != 50:\n",
    "    print(f'{len(rankings)} rankings, but expected 50')\n",
    "\n",
    "rankings[:5] + ['...'] + rankings[45:]"
   ]
  },
  {
   "cell_type": "code",
   "execution_count": 9,
   "id": "4acf0183",
   "metadata": {},
   "outputs": [],
   "source": [
    "%%sql df_song_labeled <<\n",
    "SELECT\n",
    "    ss.song_id\n",
    "    , ss.song_name\n",
    "    , art.artist_name\n",
    "    , s2a.relationship_type\n",
    "    , ss.untracked_weeks_on_chart\n",
    "FROM song ss\n",
    "LEFT JOIN song_to_artist s2a\n",
    "    ON ss.song_id = s2a.song_id\n",
    "LEFT JOIN artist art\n",
    "    ON s2a.artist_id = art.artist_id\n",
    ";"
   ]
  },
  {
   "cell_type": "code",
   "execution_count": 10,
   "id": "bd088f0c",
   "metadata": {},
   "outputs": [
    {
     "name": "stdout",
     "output_type": "stream",
     "text": [
      "|     |   song_id | song_name             | artist_name     | relationship_type   |   untracked_weeks_on_chart |\n",
      "|----:|----------:|:----------------------|:----------------|:--------------------|---------------------------:|\n",
      "|   0 |         1 | I Remember Everything | Kacey Musgraves | Featured artist     |                         19 |\n",
      "| 184 |         1 | I Remember Everything | Zach Bryan      | Lead artist         |                         19 |\n",
      "Please enter the song_id or 'New Song'\n",
      "\n",
      "|    |   song_id | song_name   | artist_name   | relationship_type   |   untracked_weeks_on_chart |\n",
      "|---:|----------:|:------------|:--------------|:--------------------|---------------------------:|\n",
      "|  1 |         2 | Last Night  | Morgan Wallen | Lead artist         |                         49 |\n",
      "Please enter the song_id or 'New Song'\n",
      "\n",
      "|    |   song_id | song_name        | artist_name   | relationship_type   |   untracked_weeks_on_chart |\n",
      "|---:|----------:|:-----------------|:--------------|:--------------------|---------------------------:|\n",
      "|  2 |         3 | Thinkin' Bout Me | Morgan Wallen | Lead artist         |                         44 |\n",
      "Please enter the song_id or 'New Song'\n",
      "\n",
      "|    |   song_id | song_name   | artist_name   | relationship_type   |   untracked_weeks_on_chart |\n",
      "|---:|----------:|:------------|:--------------|:--------------------|---------------------------:|\n",
      "|  3 |         4 | Fast Car    | Luke Combs    | Lead artist         |                         41 |\n",
      "Please enter the song_id or 'New Song'\n",
      "\n",
      "|    |   song_id | song_name   | artist_name     | relationship_type   |   untracked_weeks_on_chart |\n",
      "|---:|----------:|:------------|:----------------|:--------------------|---------------------------:|\n",
      "|  4 |         5 | White Horse | Chris Stapleton | Lead artist         |                         24 |\n",
      "Please enter the song_id or 'New Song'\n",
      "\n",
      "|    |   song_id | song_name    | artist_name   | relationship_type   |   untracked_weeks_on_chart |\n",
      "|---:|----------:|:-------------|:--------------|:--------------------|---------------------------:|\n",
      "|  6 |         7 | Need A Favor | Jelly Roll    | Lead artist         |                         49 |\n",
      "Please enter the song_id or 'New Song'\n",
      "\n",
      "|    |   song_id | song_name     | artist_name   | relationship_type   |   untracked_weeks_on_chart |\n",
      "|---:|----------:|:--------------|:--------------|:--------------------|---------------------------:|\n",
      "|  5 |         6 | World On Fire | Nate Smith    | Lead artist         |                         30 |\n",
      "Please enter the song_id or 'New Song'\n",
      "\n",
      "|     |   song_id | song_name   | artist_name   | relationship_type   |   untracked_weeks_on_chart |\n",
      "|----:|----------:|:------------|:--------------|:--------------------|---------------------------:|\n",
      "|   8 |         9 | Save Me     | Lainey Wilson | Other main artist   |                         32 |\n",
      "| 185 |         9 | Save Me     | Luke Combs    | Lead artist         |                         32 |\n",
      "Please enter the song_id or 'New Song'\n",
      "\n",
      "|    |   song_id | song_name            | artist_name    | relationship_type   |   untracked_weeks_on_chart |\n",
      "|---:|----------:|:---------------------|:---------------|:--------------------|---------------------------:|\n",
      "|  7 |         8 | Pretty Little Poison | Warren Zeiders | Lead artist         |                         30 |\n",
      "Please enter the song_id or 'New Song'\n",
      "\n",
      "|     |   song_id | song_name   | artist_name   | relationship_type   |   untracked_weeks_on_chart |\n",
      "|----:|----------:|:------------|:--------------|:--------------------|---------------------------:|\n",
      "|   9 |        10 | Wild Ones   | Jelly Roll    | Other main artist   |                         13 |\n",
      "| 186 |        10 | Wild Ones   | Jessie Murph  | Lead artist         |                         13 |\n",
      "Please enter the song_id or 'New Song'\n",
      "\n",
      "|    |   song_id | song_name   | artist_name   | relationship_type   |   untracked_weeks_on_chart |\n",
      "|---:|----------:|:------------|:--------------|:--------------------|---------------------------:|\n",
      "| 10 |        11 | Truck Bed   | HARDY         | Lead artist         |                         40 |\n",
      "Please enter the song_id or 'New Song'\n",
      "\n",
      "|     |   song_id | song_name           | artist_name   | relationship_type   |   untracked_weeks_on_chart |\n",
      "|----:|----------:|:--------------------|:--------------|:--------------------|---------------------------:|\n",
      "| 257 |        20 | Save Me The Trouble | Dan + Shay    | Lead artist         |                         23 |\n",
      "Please enter the song_id or 'New Song'\n",
      "\n",
      "|    |   song_id | song_name                 | artist_name   | relationship_type   |   untracked_weeks_on_chart |\n",
      "|---:|----------:|:--------------------------|:--------------|:--------------------|---------------------------:|\n",
      "| 11 |        12 | Where The Wild Things Are | Luke Combs    | Lead artist         |                         11 |\n",
      "Please enter the song_id or 'New Song'\n",
      "\n",
      "|    |   song_id | song_name   | artist_name   | relationship_type   |   untracked_weeks_on_chart |\n",
      "|---:|----------:|:------------|:--------------|:--------------------|---------------------------:|\n",
      "| 12 |        13 | The Painter | Cody Johnson  | Lead artist         |                         21 |\n",
      "Please enter the song_id or 'New Song'\n",
      "\n",
      "|     |   song_id | song_name    | artist_name     | relationship_type   |   untracked_weeks_on_chart |\n",
      "|----:|----------:|:-------------|:----------------|:--------------------|---------------------------:|\n",
      "| 187 |        14 | Burn It Down | Parker McCollum | Lead artist         |                         28 |\n",
      "Please enter the song_id or 'New Song'\n",
      "\n",
      "|     |   song_id | song_name   | artist_name   | relationship_type   |   untracked_weeks_on_chart |\n",
      "|----:|----------:|:------------|:--------------|:--------------------|---------------------------:|\n",
      "| 162 |       184 | Mind On You | George Birge  | Lead artist         |                         12 |\n",
      "Please enter the song_id or 'New Song'\n",
      "\n",
      "|     |   song_id | song_name   | artist_name            | relationship_type   |   untracked_weeks_on_chart |\n",
      "|----:|----------:|:------------|:-----------------------|:--------------------|---------------------------:|\n",
      "| 161 |       183 | Hey Driver  | The War And The Treaty | Featured artist     |                         19 |\n",
      "| 236 |       183 | Hey Driver  | Zach Bryan             | Lead artist         |                         19 |\n",
      "Please enter the song_id or 'New Song'\n",
      "\n",
      "|     |   song_id | song_name     | artist_name         | relationship_type   |   untracked_weeks_on_chart |\n",
      "|----:|----------:|:--------------|:--------------------|:--------------------|---------------------------:|\n",
      "| 110 |       126 | Wondering Why | The Red Clay Strays | Lead artist         |                          5 |\n",
      "Please enter the song_id or 'New Song'\n",
      "\n",
      "|     |   song_id | song_name             | artist_name   | relationship_type   |   untracked_weeks_on_chart |\n",
      "|----:|----------:|:----------------------|:--------------|:--------------------|---------------------------:|\n",
      "|  13 |        15 | Different 'Round Here | Luke Combs    | Featured artist     |                         20 |\n",
      "| 188 |        15 | Different 'Round Here | Riley Green   | Lead artist         |                         20 |\n",
      "Please enter the song_id or 'New Song'\n",
      "\n",
      "|     |   song_id |   song_name | artist_name    | relationship_type   |   untracked_weeks_on_chart |\n",
      "|----:|----------:|------------:|:---------------|:--------------------|---------------------------:|\n",
      "| 146 |       167 |          23 | Chayce Beckham | Lead artist         |                         33 |\n",
      "Please enter the song_id or 'New Song'\n",
      "\n",
      "|     |   song_id | song_name     | artist_name   | relationship_type   |   untracked_weeks_on_chart |\n",
      "|----:|----------:|:--------------|:--------------|:--------------------|---------------------------:|\n",
      "| 151 |       173 | I Can Feel It | Kane Brown    | Lead artist         |                         15 |\n",
      "Please enter the song_id or 'New Song'\n",
      "\n",
      "|     |   song_id | song_name                | artist_name   | relationship_type   |   untracked_weeks_on_chart |\n",
      "|----:|----------:|:-------------------------|:--------------|:--------------------|---------------------------:|\n",
      "| 181 |       204 | Try That In A Small Town | Jason Aldean  | Lead artist         |                         25 |\n"
     ]
    },
    {
     "name": "stdout",
     "output_type": "stream",
     "text": [
      "Please enter the song_id or 'New Song'\n",
      "\n",
      "|     |   song_id | song_name                  | artist_name          | relationship_type   |   untracked_weeks_on_chart |\n",
      "|----:|----------:|:---------------------------|:---------------------|:--------------------|---------------------------:|\n",
      "| 175 |       198 | Rich Men North Of Richmond | Oliver Anthony Music | Lead artist         |                         21 |\n",
      "Please enter the song_id or 'New Song'\n",
      "\n",
      "|     |   song_id | song_name              | artist_name     | relationship_type   |   untracked_weeks_on_chart |\n",
      "|----:|----------:|:-----------------------|:----------------|:--------------------|---------------------------:|\n",
      "| 101 |       117 | We Don't Fight Anymore | Chris Stapleton | Featured artist     |                         20 |\n",
      "| 221 |       117 | We Don't Fight Anymore | Carly Pearce    | Lead artist         |                         20 |\n",
      "Please enter the song_id or 'New Song'\n",
      "\n",
      "|     |   song_id | song_name   | artist_name   | relationship_type   |   untracked_weeks_on_chart |\n",
      "|----:|----------:|:------------|:--------------|:--------------------|---------------------------:|\n",
      "| 178 |       201 | Tourniquet  | Zach Bryan    | Lead artist         |                         18 |\n",
      "Please enter the song_id or 'New Song'\n",
      "\n",
      "|     |   song_id | song_name   | artist_name   | relationship_type   |   untracked_weeks_on_chart |\n",
      "|----:|----------:|:------------|:--------------|:--------------------|---------------------------:|\n",
      "| 137 |       157 | Coal        | Dylan Gossett | Lead artist         |                         13 |\n",
      "Please enter the song_id or 'New Song'\n",
      "\n",
      "|     |   song_id | song_name         | artist_name   | relationship_type   |   untracked_weeks_on_chart |\n",
      "|----:|----------:|:------------------|:--------------|:--------------------|---------------------------:|\n",
      "| 173 |       195 | All I Need Is You | Chris Janson  | Lead artist         |                         14 |\n",
      "Please enter the song_id or 'New Song'\n",
      "\n",
      "|     |   song_id | song_name    | artist_name    | relationship_type   |   untracked_weeks_on_chart |\n",
      "|----:|----------:|:-------------|:---------------|:--------------------|---------------------------:|\n",
      "| 128 |       146 | In Your Love | Tyler Childers | Lead artist         |                         23 |\n",
      "Please enter the song_id or 'New Song'\n",
      "\n",
      "|     |   song_id | song_name     | artist_name   | relationship_type   |   untracked_weeks_on_chart |\n",
      "|----:|----------:|:--------------|:--------------|:--------------------|---------------------------:|\n",
      "| 233 |       168 | Mamaw's House | Morgan Wallen | Featured artist     |                         14 |\n",
      "| 248 |       168 | Mamaw's House | Thomas Rhett  | Lead artist         |                         14 |\n",
      "Please enter the song_id or 'New Song'\n",
      "\n",
      "|     |   song_id | song_name                   | artist_name   | relationship_type   |   untracked_weeks_on_chart |\n",
      "|----:|----------:|:----------------------------|:--------------|:--------------------|---------------------------:|\n",
      "| 226 |       143 | Wildflowers And Wild Horses | Lainey Wilson | Lead artist         |                          7 |\n",
      "Please enter the song_id or 'New Song'\n",
      "\n",
      "|     |   song_id | song_name     | artist_name   | relationship_type   |   untracked_weeks_on_chart |\n",
      "|----:|----------:|:--------------|:--------------|:--------------------|---------------------------:|\n",
      "| 172 |       194 | Sarah's Place | Noah Kahan    | Featured artist     |                         15 |\n",
      "| 238 |       194 | Sarah's Place | Zach Bryan    | Lead artist         |                         15 |\n",
      "Please enter the song_id or 'New Song'\n",
      "\n",
      "|     |   song_id | song_name   | artist_name   | relationship_type   |   untracked_weeks_on_chart |\n",
      "|----:|----------:|:------------|:--------------|:--------------------|---------------------------:|\n",
      "| 179 |       202 | Spotless    | The Lumineers | Featured artist     |                         18 |\n",
      "| 239 |       202 | Spotless    | Zach Bryan    | Lead artist         |                         18 |\n",
      "Please enter the song_id or 'New Song'\n",
      "\n",
      "|    |   song_id | song_name   | artist_name   | relationship_type   |   untracked_weeks_on_chart |\n",
      "|---:|----------:|:------------|:--------------|:--------------------|---------------------------:|\n",
      "| 84 |        98 | We Ride     | Bryan Martin  | Lead artist         |                         24 |\n",
      "Please enter the song_id or 'New Song'\n",
      "\n",
      "|     |   song_id | song_name       | artist_name   | relationship_type   |   untracked_weeks_on_chart |\n",
      "|----:|----------:|:----------------|:--------------|:--------------------|---------------------------:|\n",
      "| 153 |       175 | Creek Will Rise | Conner Smith  | Lead artist         |                          7 |\n",
      "Please enter the song_id or 'New Song'\n",
      "\n",
      "|    |   song_id | song_name      | artist_name   | relationship_type   |   untracked_weeks_on_chart |\n",
      "|---:|----------:|:---------------|:--------------|:--------------------|---------------------------:|\n",
      "| 95 |       110 | I'm Not Pretty | Megan Moroney | Lead artist         |                         18 |\n",
      "Please enter the song_id or 'New Song'\n",
      "\n",
      "|     |   song_id | song_name           | artist_name   | relationship_type   |   untracked_weeks_on_chart |\n",
      "|----:|----------:|:--------------------|:--------------|:--------------------|---------------------------:|\n",
      "| 180 |       203 | East Side Of Sorrow | Zach Bryan    | Lead artist         |                         18 |\n",
      "Please enter the song_id or 'New Song'\n",
      "\n",
      "|     |   song_id | song_name       | artist_name   | relationship_type   |   untracked_weeks_on_chart |\n",
      "|----:|----------:|:----------------|:--------------|:--------------------|---------------------------:|\n",
      "| 123 |       139 | Tucson Too Late | Jordan Davis  | Lead artist         |                          6 |\n",
      "Please enter the song_id or 'New Song'\n",
      "\n",
      "|     |   song_id | song_name   | artist_name   | relationship_type   |   untracked_weeks_on_chart |\n",
      "|----:|----------:|:------------|:--------------|:--------------------|---------------------------:|\n",
      "| 165 |       187 | Glory Days  | Gabby Barrett | Lead artist         |                          8 |\n",
      "Please enter the song_id or 'New Song'\n",
      "\n",
      "|     |   song_id | song_name       | artist_name   | relationship_type   |   untracked_weeks_on_chart |\n",
      "|----:|----------:|:----------------|:--------------|:--------------------|---------------------------:|\n",
      "| 163 |       185 | Please Don't Go | Wyatt Flores  | Lead artist         |                          7 |\n",
      "Please enter the song_id or 'New Song'\n",
      "\n",
      "|     |   song_id | song_name                  | artist_name     | relationship_type   |   untracked_weeks_on_chart |\n",
      "|----:|----------:|:---------------------------|:----------------|:--------------------|---------------------------:|\n",
      "| 241 |        22 | Think I'm In Love With You | Chris Stapleton | Lead artist         |                          9 |\n",
      "Please enter the song_id or 'New Song'\n",
      "\n",
      "|    |   song_id | song_name   | artist_name   | relationship_type   |   untracked_weeks_on_chart |\n",
      "|---:|----------:|:------------|:--------------|:--------------------|---------------------------:|\n",
      "| 17 |        21 | Dirt Cheap  | Cody Johnson  | Lead artist         |                          9 |\n",
      "Please enter the song_id or 'New Song'\n",
      "\n",
      "|     |   song_id | song_name   | artist_name   | relationship_type   |   untracked_weeks_on_chart |\n",
      "|----:|----------:|:------------|:--------------|:--------------------|---------------------------:|\n",
      "| 176 |       199 | El Dorado   | Zach Bryan    | Lead artist         |                         18 |\n",
      "Please enter the song_id or 'New Song'\n",
      "\n",
      "|     |   song_id | song_name                       | artist_name   | relationship_type   |   untracked_weeks_on_chart |\n",
      "|----:|----------:|:--------------------------------|:--------------|:--------------------|---------------------------:|\n",
      "| 117 |       133 | This Town's Been Too Good To Us | Dylan Scott   | Lead artist         |                          6 |\n",
      "Please enter the song_id or 'New Song'\n",
      "\n",
      "|     |   song_id | song_name                 | artist_name   | relationship_type   |   untracked_weeks_on_chart |\n",
      "|----:|----------:|:--------------------------|:--------------|:--------------------|---------------------------:|\n",
      "| 177 |       200 | Something's Gonna Kill Me | Corey Kent    | Lead artist         |                         14 |\n"
     ]
    },
    {
     "name": "stdout",
     "output_type": "stream",
     "text": [
      "Please enter the song_id or 'New Song'\n",
      "\n",
      "|    |   song_id | song_name      | artist_name   | relationship_type   |   untracked_weeks_on_chart |\n",
      "|---:|----------:|:---------------|:--------------|:--------------------|---------------------------:|\n",
      "| 18 |        23 | Love You Again | Chase Matthew | Lead artist         |                         11 |\n",
      "Please enter the song_id or 'New Song'\n",
      "\n",
      "|     |   song_id | song_name           | artist_name   | relationship_type   |   untracked_weeks_on_chart |\n",
      "|----:|----------:|:--------------------|:--------------|:--------------------|---------------------------:|\n",
      "| 131 |       150 | Fearless (The Echo) | Jackson Dean  | Lead artist         |                          4 |\n",
      "Please enter the song_id or 'New Song'\n",
      "\n",
      "|     |   song_id | song_name         | artist_name      | relationship_type   |   untracked_weeks_on_chart |\n",
      "|----:|----------:|:------------------|:-----------------|:--------------------|---------------------------:|\n",
      "| 160 |       182 | Out Of That Truck | Carrie Underwood | Lead artist         |                         12 |\n",
      "Please enter the song_id or 'New Song'\n",
      "\n",
      "|     |   song_id | song_name      | artist_name   | relationship_type   |   untracked_weeks_on_chart |\n",
      "|----:|----------:|:---------------|:--------------|:--------------------|---------------------------:|\n",
      "|  79 |        93 | Boys Back Home | Dylan Scott   | Other main artist   |                          4 |\n",
      "| 217 |        93 | Boys Back Home | Dylan Marlowe | Lead artist         |                          4 |\n",
      "Please enter the song_id or 'New Song'\n",
      "\n",
      "|     |   song_id | song_name        | artist_name   | relationship_type   |   untracked_weeks_on_chart |\n",
      "|----:|----------:|:-----------------|:--------------|:--------------------|---------------------------:|\n",
      "| 122 |       138 | The Good I'll Do | Zach Bryan    | Lead artist         |                         15 |\n",
      "Please enter the song_id or 'New Song'\n",
      "\n"
     ]
    }
   ],
   "source": [
    "existing_song_to_rank = {}\n",
    "new_song_to_rank = {}\n",
    "for song, rank_ix in zip(rankings, range(1,51)):\n",
    "    n_rows = df_song_labeled[df_song_labeled['song_name'] == song]['song_id'].count()\n",
    "    if n_rows == 0:\n",
    "        new_song_to_rank[song] = rank_ix\n",
    "    else:\n",
    "        print(df_song_labeled.loc[df_song_labeled['song_name'] == song].to_markdown())\n",
    "        song_id = input(\"Please enter the song_id or 'New Song'\\n\")\n",
    "\n",
    "        if song_id == '': # hit enter to take the most common song ID\n",
    "            song_id = int(\n",
    "                df_song_labeled.loc[\n",
    "                    df_song_labeled['song_name'] == song\n",
    "                ]['song_id'].mode()\n",
    "            )\n",
    "        \n",
    "        if str(song_id).lower() == 'new song':\n",
    "            new_song_to_rank[song] = rank_ix\n",
    "        else:\n",
    "            existing_song_to_rank[int(song_id)] = rank_ix"
   ]
  },
  {
   "cell_type": "code",
   "execution_count": null,
   "id": "be37e959",
   "metadata": {},
   "outputs": [],
   "source": [
    "# Be aware that some \"last week on chart\" are one too high. Audit, esp. when the song is marked new in backfillery"
   ]
  },
  {
   "cell_type": "markdown",
   "id": "bc51838a",
   "metadata": {},
   "source": [
    "# Notes\n",
    "#### s2a for:\n",
    "\n",
    "#### Untracked weeks to 0 for\n"
   ]
  },
  {
   "cell_type": "code",
   "execution_count": 11,
   "id": "385a5642",
   "metadata": {},
   "outputs": [
    {
     "name": "stdout",
     "output_type": "stream",
     "text": [
      "49 +\n",
      "['To Be A Man']\n"
     ]
    }
   ],
   "source": [
    "# Check that you have 50 songs\n",
    "print(len(existing_song_to_rank), '+')\n",
    "print(list(new_song_to_rank.keys()))"
   ]
  },
  {
   "cell_type": "markdown",
   "id": "093fcb40",
   "metadata": {},
   "source": [
    "### Add artists on any new songs that aren't in the artist table yet to its CSV"
   ]
  },
  {
   "cell_type": "code",
   "execution_count": 17,
   "id": "838c49e8",
   "metadata": {},
   "outputs": [],
   "source": [
    "df_artist = pd.read_csv('source_data/artist.csv')"
   ]
  },
  {
   "cell_type": "markdown",
   "id": "ff98d3dc",
   "metadata": {},
   "source": [
    "To Be A Man: Dax(108) & Darius Rucker(109) +5"
   ]
  },
  {
   "cell_type": "code",
   "execution_count": 21,
   "id": "7e6f3353",
   "metadata": {
    "scrolled": true
   },
   "outputs": [
    {
     "data": {
      "text/html": [
       "<div>\n",
       "<style scoped>\n",
       "    .dataframe tbody tr th:only-of-type {\n",
       "        vertical-align: middle;\n",
       "    }\n",
       "\n",
       "    .dataframe tbody tr th {\n",
       "        vertical-align: top;\n",
       "    }\n",
       "\n",
       "    .dataframe thead th {\n",
       "        text-align: right;\n",
       "    }\n",
       "</style>\n",
       "<table border=\"1\" class=\"dataframe\">\n",
       "  <thead>\n",
       "    <tr style=\"text-align: right;\">\n",
       "      <th></th>\n",
       "      <th>artist_id</th>\n",
       "      <th>artist_name</th>\n",
       "      <th>pct_female</th>\n",
       "      <th>last_update</th>\n",
       "    </tr>\n",
       "  </thead>\n",
       "  <tbody>\n",
       "    <tr>\n",
       "      <th>107</th>\n",
       "      <td>108</td>\n",
       "      <td>Dax</td>\n",
       "      <td>0</td>\n",
       "      <td>2024-09-21</td>\n",
       "    </tr>\n",
       "    <tr>\n",
       "      <th>108</th>\n",
       "      <td>109</td>\n",
       "      <td>Darius Rucker</td>\n",
       "      <td>0</td>\n",
       "      <td>2024-09-21</td>\n",
       "    </tr>\n",
       "  </tbody>\n",
       "</table>\n",
       "</div>"
      ],
      "text/plain": [
       "    artist_id    artist_name pct_female last_update\n",
       "107       108            Dax          0  2024-09-21\n",
       "108       109  Darius Rucker          0  2024-09-21"
      ]
     },
     "execution_count": 21,
     "metadata": {},
     "output_type": "execute_result"
    }
   ],
   "source": [
    "new_song_artists = [\n",
    "    'Dax'\n",
    "    , 'Darius Rucker'\n",
    "]\n",
    "df_artist[df_artist['artist_name'].isin(new_song_artists)]"
   ]
  },
  {
   "cell_type": "code",
   "execution_count": 19,
   "id": "71656efe",
   "metadata": {},
   "outputs": [
    {
     "data": {
      "text/plain": [
       "107"
      ]
     },
     "execution_count": 19,
     "metadata": {},
     "output_type": "execute_result"
    }
   ],
   "source": [
    "df_artist['artist_id'].max()"
   ]
  },
  {
   "cell_type": "code",
   "execution_count": 20,
   "id": "8ae588c5",
   "metadata": {},
   "outputs": [],
   "source": [
    "df_artist = pd.concat(\n",
    "    [\n",
    "        df_artist\n",
    "        , pd.DataFrame(\n",
    "            np.array([\n",
    "                [108, 'Dax', 0, current_date]\n",
    "                , [109, 'Darius Rucker', 0, current_date]\n",
    "            ])\n",
    "            , columns = ['artist_id', 'artist_name', 'pct_female', 'last_update']\n",
    "        )\n",
    "    ]\n",
    "    , ignore_index = True\n",
    ")"
   ]
  },
  {
   "cell_type": "code",
   "execution_count": 22,
   "id": "e9a1b4d8",
   "metadata": {},
   "outputs": [
    {
     "name": "stdout",
     "output_type": "stream",
     "text": [
      "Done for 2024-01-06\n"
     ]
    }
   ],
   "source": [
    "df_artist.to_csv('source_data/artist.csv', index=False)\n",
    "print('Done for', billboard_observation_date)"
   ]
  },
  {
   "cell_type": "markdown",
   "id": "2b7a60e9",
   "metadata": {},
   "source": [
    "### Add all new songs to the song table CSV"
   ]
  },
  {
   "cell_type": "code",
   "execution_count": 23,
   "id": "a5c57073",
   "metadata": {},
   "outputs": [],
   "source": [
    "df_song_raw = pd.read_csv('source_data/song.csv')"
   ]
  },
  {
   "cell_type": "code",
   "execution_count": 24,
   "id": "545e3470",
   "metadata": {},
   "outputs": [
    {
     "name": "stdout",
     "output_type": "stream",
     "text": [
      "Is this a backfill (1/0)): 1\n",
      "Running!\n"
     ]
    }
   ],
   "source": [
    "# Reduce untracked weeks by one for everything being added by backfill\n",
    "if input('Is this a backfill (1/0)): ') == '1':\n",
    "    print('Running!')\n",
    "    df_song_raw \\\n",
    "        .loc[\n",
    "            df_song_raw['song_id'].isin(existing_song_to_rank.keys())\n",
    "            , 'untracked_weeks_on_chart'\n",
    "        ] -= 1"
   ]
  },
  {
   "cell_type": "code",
   "execution_count": 25,
   "id": "1f19b198",
   "metadata": {},
   "outputs": [
    {
     "data": {
      "text/plain": [
       "[[207, 'To Be A Man', 0, '2024-09-21']]"
      ]
     },
     "execution_count": 25,
     "metadata": {},
     "output_type": "execute_result"
    }
   ],
   "source": [
    "max_song_id = df_song_raw['song_id'].max()\n",
    "array_new_songs = []\n",
    "for song_name in list(new_song_to_rank.keys()):\n",
    "    max_song_id += 1\n",
    "    array_new_songs += [[max_song_id, song_name, 0, current_date]]\n",
    "\n",
    "array_new_songs"
   ]
  },
  {
   "cell_type": "code",
   "execution_count": 26,
   "id": "2eef3514",
   "metadata": {},
   "outputs": [
    {
     "data": {
      "text/html": [
       "<div>\n",
       "<style scoped>\n",
       "    .dataframe tbody tr th:only-of-type {\n",
       "        vertical-align: middle;\n",
       "    }\n",
       "\n",
       "    .dataframe tbody tr th {\n",
       "        vertical-align: top;\n",
       "    }\n",
       "\n",
       "    .dataframe thead th {\n",
       "        text-align: right;\n",
       "    }\n",
       "</style>\n",
       "<table border=\"1\" class=\"dataframe\">\n",
       "  <thead>\n",
       "    <tr style=\"text-align: right;\">\n",
       "      <th></th>\n",
       "      <th>song_id</th>\n",
       "      <th>song_name</th>\n",
       "      <th>untracked_weeks_on_chart</th>\n",
       "      <th>last_update</th>\n",
       "    </tr>\n",
       "  </thead>\n",
       "  <tbody>\n",
       "    <tr>\n",
       "      <th>205</th>\n",
       "      <td>206</td>\n",
       "      <td>Nobody's Nobody</td>\n",
       "      <td>0.0</td>\n",
       "      <td>2024-09-21</td>\n",
       "    </tr>\n",
       "    <tr>\n",
       "      <th>206</th>\n",
       "      <td>207</td>\n",
       "      <td>To Be A Man</td>\n",
       "      <td>0</td>\n",
       "      <td>2024-09-21</td>\n",
       "    </tr>\n",
       "  </tbody>\n",
       "</table>\n",
       "</div>"
      ],
      "text/plain": [
       "    song_id        song_name untracked_weeks_on_chart last_update\n",
       "205     206  Nobody's Nobody                      0.0  2024-09-21\n",
       "206     207      To Be A Man                        0  2024-09-21"
      ]
     },
     "execution_count": 26,
     "metadata": {},
     "output_type": "execute_result"
    }
   ],
   "source": [
    "df_song_raw = pd.concat(\n",
    "    [\n",
    "        df_song_raw\n",
    "        , pd.DataFrame(\n",
    "            np.array(array_new_songs)\n",
    "            , columns = ['song_id', 'song_name', 'untracked_weeks_on_chart', 'last_update']\n",
    "        )\n",
    "    ]\n",
    "    , ignore_index = True\n",
    ")\n",
    "df_song_raw[-len(array_new_songs)-1:]"
   ]
  },
  {
   "cell_type": "code",
   "execution_count": 23,
   "id": "90b2602d",
   "metadata": {},
   "outputs": [
    {
     "data": {
      "text/html": [
       "<div>\n",
       "<style scoped>\n",
       "    .dataframe tbody tr th:only-of-type {\n",
       "        vertical-align: middle;\n",
       "    }\n",
       "\n",
       "    .dataframe tbody tr th {\n",
       "        vertical-align: top;\n",
       "    }\n",
       "\n",
       "    .dataframe thead th {\n",
       "        text-align: right;\n",
       "    }\n",
       "</style>\n",
       "<table border=\"1\" class=\"dataframe\">\n",
       "  <thead>\n",
       "    <tr style=\"text-align: right;\">\n",
       "      <th></th>\n",
       "      <th>song_id</th>\n",
       "      <th>song_name</th>\n",
       "      <th>untracked_weeks_on_chart</th>\n",
       "      <th>last_update</th>\n",
       "    </tr>\n",
       "  </thead>\n",
       "  <tbody>\n",
       "  </tbody>\n",
       "</table>\n",
       "</div>"
      ],
      "text/plain": [
       "Empty DataFrame\n",
       "Columns: [song_id, song_name, untracked_weeks_on_chart, last_update]\n",
       "Index: []"
      ]
     },
     "execution_count": 23,
     "metadata": {},
     "output_type": "execute_result"
    }
   ],
   "source": [
    "df_song_raw[df_song_raw['song_name'].isin([\n",
    "    # 'Your Place'\n",
    "])]"
   ]
  },
  {
   "cell_type": "markdown",
   "id": "d9bca054",
   "metadata": {},
   "source": [
    "To Be A Man: Dax(108) & Darius Rucker(109) +5"
   ]
  },
  {
   "cell_type": "code",
   "execution_count": 27,
   "id": "9fc38a39",
   "metadata": {},
   "outputs": [],
   "source": [
    "# Adjust untracked weeks if they aren't zero\n",
    "for song_id, untracked_weeks in [\n",
    "    (207, 5)\n",
    "]:\n",
    "    df_song_raw.loc[\n",
    "        df_song_raw['song_id'] == str(song_id)\n",
    "        , 'untracked_weeks_on_chart'\n",
    "    ] = untracked_weeks"
   ]
  },
  {
   "cell_type": "code",
   "execution_count": 28,
   "id": "26ba1816",
   "metadata": {},
   "outputs": [
    {
     "data": {
      "text/html": [
       "<div>\n",
       "<style scoped>\n",
       "    .dataframe tbody tr th:only-of-type {\n",
       "        vertical-align: middle;\n",
       "    }\n",
       "\n",
       "    .dataframe tbody tr th {\n",
       "        vertical-align: top;\n",
       "    }\n",
       "\n",
       "    .dataframe thead th {\n",
       "        text-align: right;\n",
       "    }\n",
       "</style>\n",
       "<table border=\"1\" class=\"dataframe\">\n",
       "  <thead>\n",
       "    <tr style=\"text-align: right;\">\n",
       "      <th></th>\n",
       "      <th>song_id</th>\n",
       "      <th>song_name</th>\n",
       "      <th>untracked_weeks_on_chart</th>\n",
       "      <th>last_update</th>\n",
       "    </tr>\n",
       "  </thead>\n",
       "  <tbody>\n",
       "    <tr>\n",
       "      <th>205</th>\n",
       "      <td>206</td>\n",
       "      <td>Nobody's Nobody</td>\n",
       "      <td>0.0</td>\n",
       "      <td>2024-09-21</td>\n",
       "    </tr>\n",
       "    <tr>\n",
       "      <th>206</th>\n",
       "      <td>207</td>\n",
       "      <td>To Be A Man</td>\n",
       "      <td>5</td>\n",
       "      <td>2024-09-21</td>\n",
       "    </tr>\n",
       "  </tbody>\n",
       "</table>\n",
       "</div>"
      ],
      "text/plain": [
       "    song_id        song_name untracked_weeks_on_chart last_update\n",
       "205     206  Nobody's Nobody                      0.0  2024-09-21\n",
       "206     207      To Be A Man                        5  2024-09-21"
      ]
     },
     "execution_count": 28,
     "metadata": {},
     "output_type": "execute_result"
    }
   ],
   "source": [
    "df_song_raw[-len(array_new_songs)-1:]"
   ]
  },
  {
   "cell_type": "code",
   "execution_count": 29,
   "id": "d7946e36",
   "metadata": {},
   "outputs": [
    {
     "name": "stdout",
     "output_type": "stream",
     "text": [
      "Done for 2024-01-06\n"
     ]
    }
   ],
   "source": [
    "df_song_raw.to_csv('source_data/song.csv', index=False)\n",
    "print('Done for', billboard_observation_date)"
   ]
  },
  {
   "cell_type": "markdown",
   "id": "cfb3c312",
   "metadata": {},
   "source": [
    "#### Add all new songs to the song_to_artist table CSV"
   ]
  },
  {
   "cell_type": "code",
   "execution_count": 30,
   "id": "ddd03b8c",
   "metadata": {},
   "outputs": [],
   "source": [
    "df_s2a_raw = pd.read_csv('source_data/song_to_artist.csv').fillna('')"
   ]
  },
  {
   "cell_type": "markdown",
   "id": "83921c82",
   "metadata": {},
   "source": [
    "To Be A Man: Dax(108) & Darius Rucker(109) +5"
   ]
  },
  {
   "cell_type": "code",
   "execution_count": 31,
   "id": "c410bee9",
   "metadata": {},
   "outputs": [
    {
     "data": {
      "text/plain": [
       "[['207-Lead artist-', 207, 108, 'Lead artist', '', '', '2024-09-21'],\n",
       " ['207-Other main artist-1',\n",
       "  207,\n",
       "  109,\n",
       "  'Other main artist',\n",
       "  '&',\n",
       "  1,\n",
       "  '2024-09-21']]"
      ]
     },
     "execution_count": 31,
     "metadata": {},
     "output_type": "execute_result"
    }
   ],
   "source": [
    "array_new_s2a = []\n",
    "for s2a in [ # song_id, artist_id, relationship_conjunction, relationship_index\n",
    "    [207, 108, '', '']\n",
    "    , [207, 109, '&', 1]\n",
    "]:\n",
    "    if s2a[3] == '': # Only lead artists don't have a relationship index\n",
    "        reln = 'Lead artist'\n",
    "    elif s2a[2] == '': # Featured artists don't have an explicit relationship conjunction\n",
    "        reln = 'Featured artist' \n",
    "    else:\n",
    "        reln = 'Other main artist'\n",
    "        \n",
    "    array_new_s2a += [[\n",
    "        '-'.join([str(s2a[0]), reln, str(s2a[3])])\n",
    "        , s2a[0]\n",
    "        , s2a[1]\n",
    "        , reln\n",
    "        , s2a[2]\n",
    "        , s2a[3]\n",
    "        , current_date\n",
    "    ]]\n",
    "    \n",
    "array_new_s2a"
   ]
  },
  {
   "cell_type": "code",
   "execution_count": 32,
   "id": "ada4d139",
   "metadata": {},
   "outputs": [
    {
     "data": {
      "text/html": [
       "<div>\n",
       "<style scoped>\n",
       "    .dataframe tbody tr th:only-of-type {\n",
       "        vertical-align: middle;\n",
       "    }\n",
       "\n",
       "    .dataframe tbody tr th {\n",
       "        vertical-align: top;\n",
       "    }\n",
       "\n",
       "    .dataframe thead th {\n",
       "        text-align: right;\n",
       "    }\n",
       "</style>\n",
       "<table border=\"1\" class=\"dataframe\">\n",
       "  <thead>\n",
       "    <tr style=\"text-align: right;\">\n",
       "      <th></th>\n",
       "      <th>song_to_artist_pk</th>\n",
       "      <th>song_id</th>\n",
       "      <th>artist_id</th>\n",
       "      <th>relationship_type</th>\n",
       "      <th>relationship_conjunction</th>\n",
       "      <th>relationship_index</th>\n",
       "      <th>last_update</th>\n",
       "    </tr>\n",
       "  </thead>\n",
       "  <tbody>\n",
       "    <tr>\n",
       "      <th>262</th>\n",
       "      <td>207-Other main artist-1</td>\n",
       "      <td>207</td>\n",
       "      <td>109</td>\n",
       "      <td>Other main artist</td>\n",
       "      <td>&amp;</td>\n",
       "      <td>1</td>\n",
       "      <td>2024-09-21</td>\n",
       "    </tr>\n",
       "  </tbody>\n",
       "</table>\n",
       "</div>"
      ],
      "text/plain": [
       "           song_to_artist_pk song_id artist_id  relationship_type  \\\n",
       "262  207-Other main artist-1     207       109  Other main artist   \n",
       "\n",
       "    relationship_conjunction relationship_index last_update  \n",
       "262                        &                  1  2024-09-21  "
      ]
     },
     "execution_count": 32,
     "metadata": {},
     "output_type": "execute_result"
    }
   ],
   "source": [
    "df_s2a_raw = pd.concat(\n",
    "    [\n",
    "        df_s2a_raw\n",
    "        , pd.DataFrame(\n",
    "            np.array(array_new_s2a)\n",
    "            , columns = [\n",
    "                'song_to_artist_pk'\n",
    "                , 'song_id'\n",
    "                , 'artist_id'\n",
    "                , 'relationship_type'\n",
    "                , 'relationship_conjunction'\n",
    "                , 'relationship_index'\n",
    "                , 'last_update'\n",
    "            ]\n",
    "        )\n",
    "    ]\n",
    "    , ignore_index = True\n",
    ")\n",
    "df_s2a_raw.tail(1)"
   ]
  },
  {
   "cell_type": "code",
   "execution_count": 33,
   "id": "42e5a7eb",
   "metadata": {},
   "outputs": [
    {
     "name": "stdout",
     "output_type": "stream",
     "text": [
      "Done for 2024-01-06\n"
     ]
    }
   ],
   "source": [
    "df_s2a_raw.to_csv('source_data/song_to_artist.csv', index=False)\n",
    "print('Done for', billboard_observation_date)"
   ]
  },
  {
   "cell_type": "markdown",
   "id": "46ad7fbe",
   "metadata": {},
   "source": [
    "#### Convert new_song_to_rank to the id_to_rankix format of existing_song_to_rank\n",
    "Then stack the two dicts of songs and insert to CSV with more info like current_date for last_update"
   ]
  },
  {
   "cell_type": "code",
   "execution_count": 34,
   "id": "4c01a921",
   "metadata": {},
   "outputs": [
    {
     "data": {
      "text/plain": [
       "[['2024-01-06-47', '2024-01-06', 47, 150, '2024-09-21'],\n",
       " ['2024-01-06-48', '2024-01-06', 48, 182, '2024-09-21'],\n",
       " ['2024-01-06-49', '2024-01-06', 49, 93, '2024-09-21'],\n",
       " ['2024-01-06-50', '2024-01-06', 50, 138, '2024-09-21'],\n",
       " ['2024-01-06-41', '2024-01-06', 41, 207, '2024-09-21']]"
      ]
     },
     "execution_count": 34,
     "metadata": {},
     "output_type": "execute_result"
    }
   ],
   "source": [
    "all_song_to_rank = existing_song_to_rank.copy()\n",
    "for song_name, rank in new_song_to_rank.items():\n",
    "    songs = list(df_song_raw[df_song_raw['song_name'] == song_name]['song_id'])\n",
    "    \n",
    "    if len(songs) == 1:\n",
    "        song_id = songs[0]\n",
    "    elif len(songs) > 1:\n",
    "        song_id = int(input(f'{str(songs)}: Choose ID of song actually at rank {rank}\\n'))\n",
    "    else:\n",
    "        raise Exception(f'The song at rank {rank} is missing from the song CSV')\n",
    "    \n",
    "    all_song_to_rank[int(song_id)] = rank\n",
    "\n",
    "array_new_ranking = [\n",
    "    [\n",
    "        '-'.join([billboard_observation_date, str(rank)])\n",
    "        , billboard_observation_date\n",
    "        , rank\n",
    "        , song_id\n",
    "        , current_date\n",
    "    ]\n",
    "    for song_id, rank\n",
    "    in all_song_to_rank.items()\n",
    "]\n",
    "\n",
    "array_new_ranking[45:] # should be 5 rows, new songs come at end"
   ]
  },
  {
   "cell_type": "code",
   "execution_count": 35,
   "id": "68da0a17",
   "metadata": {},
   "outputs": [
    {
     "name": "stdout",
     "output_type": "stream",
     "text": [
      "Done for 2024-01-06\n"
     ]
    }
   ],
   "source": [
    "pd.concat(\n",
    "    [\n",
    "        pd.read_csv('source_data/billboard_ranking.csv').fillna('')\n",
    "        , pd.DataFrame(\n",
    "            np.array(array_new_ranking)\n",
    "            , columns = [\n",
    "                'billboard_ranking_pk'\n",
    "                , 'billboard_observation_date'\n",
    "                , 'billboard_rank'\n",
    "                , 'song_id'\n",
    "                , 'last_update'\n",
    "            ]\n",
    "        )\n",
    "    ]\n",
    "    , ignore_index = True\n",
    ").to_csv('source_data/billboard_ranking.csv', index=False)\n",
    "\n",
    "print('Done for', billboard_observation_date)"
   ]
  },
  {
   "cell_type": "markdown",
   "id": "420ed5c3",
   "metadata": {},
   "source": [
    "## Push to duckdb"
   ]
  },
  {
   "cell_type": "code",
   "execution_count": 36,
   "id": "dd6d3912",
   "metadata": {},
   "outputs": [],
   "source": [
    "# TODO: instead of purging and rebuilding, use the raw data to run updates\n",
    "%sql --close duckdb:///C:/Users/Admin/billboard/raw_db.duckdb --quiet\n",
    "pathlib.Path('raw_db.duckdb').unlink(missing_ok = True)"
   ]
  },
  {
   "cell_type": "markdown",
   "id": "d596a752",
   "metadata": {},
   "source": [
    "TODO: integrate into jupyter using `%python`\n",
    "\n",
    "In a command terminal\n",
    "- `python table_configs/run_schema_configs.py billboard_schema.sql`\n",
    "- `python table_configs/run_table_configs.py`\n",
    "- `python main.py`"
   ]
  },
  {
   "cell_type": "code",
   "execution_count": 37,
   "id": "77c6f7d7",
   "metadata": {},
   "outputs": [],
   "source": [
    "%sql duckdb:///C:/Users/Admin/billboard/raw_db.duckdb"
   ]
  },
  {
   "cell_type": "code",
   "execution_count": null,
   "id": "6bace166",
   "metadata": {},
   "outputs": [],
   "source": []
  },
  {
   "cell_type": "markdown",
   "id": "e25f4604",
   "metadata": {},
   "source": [
    "## Run the ranking SQL script"
   ]
  },
  {
   "cell_type": "code",
   "execution_count": 38,
   "id": "2ce596c9",
   "metadata": {},
   "outputs": [],
   "source": [
    "weeks_lookback = 13 # Arbitrary lookback\n",
    "\n",
    "with duckdb.connect('raw_db.duckdb') as conn:\n",
    "    for weeks_ago in range(weeks_lookback):\n",
    "        if weeks_ago == 0:\n",
    "            with open('analysis/artist_ranking.sql') as sql_file:\n",
    "                artist_ranking = conn.sql(sql_file.read().format(weeks_ago = str(weeks_ago)))\n",
    "                df_artist_ranking = pd.DataFrame(\n",
    "                    data=artist_ranking.fetchall()\n",
    "                    , columns=artist_ranking.columns\n",
    "                )\n",
    "\n",
    "        else: # Have to close and reopen file between executions for fetchall() to work\n",
    "            with open('analysis/artist_ranking.sql') as sql_file:\n",
    "                prev_artist_ranking = conn.sql(sql_file.read().format(weeks_ago = str(weeks_ago)))\n",
    "                df_artist_ranking = pd.concat([\n",
    "                    df_artist_ranking\n",
    "                    , pd.DataFrame(\n",
    "                        data=prev_artist_ranking.fetchall()\n",
    "                        , columns=artist_ranking.columns\n",
    "                    )\n",
    "                ])"
   ]
  },
  {
   "cell_type": "code",
   "execution_count": 39,
   "id": "b1cfa54b",
   "metadata": {},
   "outputs": [
    {
     "data": {
      "text/html": [
       "<div>\n",
       "<style scoped>\n",
       "    .dataframe tbody tr th:only-of-type {\n",
       "        vertical-align: middle;\n",
       "    }\n",
       "\n",
       "    .dataframe tbody tr th {\n",
       "        vertical-align: top;\n",
       "    }\n",
       "\n",
       "    .dataframe thead th {\n",
       "        text-align: right;\n",
       "    }\n",
       "</style>\n",
       "<table border=\"1\" class=\"dataframe\">\n",
       "  <thead>\n",
       "    <tr style=\"text-align: right;\">\n",
       "      <th>weeks_ago</th>\n",
       "      <th>-4</th>\n",
       "      <th>-3</th>\n",
       "      <th>-2</th>\n",
       "      <th>-1</th>\n",
       "      <th>0</th>\n",
       "    </tr>\n",
       "    <tr>\n",
       "      <th>artist_name</th>\n",
       "      <th></th>\n",
       "      <th></th>\n",
       "      <th></th>\n",
       "      <th></th>\n",
       "      <th></th>\n",
       "    </tr>\n",
       "  </thead>\n",
       "  <tbody>\n",
       "    <tr>\n",
       "      <th>Zach Bryan</th>\n",
       "      <td>1</td>\n",
       "      <td>1</td>\n",
       "      <td>1</td>\n",
       "      <td>1</td>\n",
       "      <td>1</td>\n",
       "    </tr>\n",
       "    <tr>\n",
       "      <th>Post Malone</th>\n",
       "      <td>10</td>\n",
       "      <td>7</td>\n",
       "      <td>4</td>\n",
       "      <td>3</td>\n",
       "      <td>2</td>\n",
       "    </tr>\n",
       "    <tr>\n",
       "      <th>Morgan Wallen</th>\n",
       "      <td>2</td>\n",
       "      <td>2</td>\n",
       "      <td>2</td>\n",
       "      <td>2</td>\n",
       "      <td>3</td>\n",
       "    </tr>\n",
       "    <tr>\n",
       "      <th>Beyonce</th>\n",
       "      <td>3</td>\n",
       "      <td>3</td>\n",
       "      <td>3</td>\n",
       "      <td>4</td>\n",
       "      <td>4</td>\n",
       "    </tr>\n",
       "    <tr>\n",
       "      <th>Megan Moroney</th>\n",
       "      <td>4</td>\n",
       "      <td>4</td>\n",
       "      <td>5</td>\n",
       "      <td>5</td>\n",
       "      <td>5</td>\n",
       "    </tr>\n",
       "    <tr>\n",
       "      <th>Jelly Roll</th>\n",
       "      <td>5</td>\n",
       "      <td>5</td>\n",
       "      <td>6</td>\n",
       "      <td>6</td>\n",
       "      <td>6</td>\n",
       "    </tr>\n",
       "    <tr>\n",
       "      <th>Luke Combs</th>\n",
       "      <td>6</td>\n",
       "      <td>6</td>\n",
       "      <td>7</td>\n",
       "      <td>7</td>\n",
       "      <td>7</td>\n",
       "    </tr>\n",
       "    <tr>\n",
       "      <th>Bailey Zimmerman</th>\n",
       "      <td>8</td>\n",
       "      <td>9</td>\n",
       "      <td>9</td>\n",
       "      <td>8</td>\n",
       "      <td>8</td>\n",
       "    </tr>\n",
       "    <tr>\n",
       "      <th>Dylan Scott</th>\n",
       "      <td>7</td>\n",
       "      <td>8</td>\n",
       "      <td>8</td>\n",
       "      <td>9</td>\n",
       "      <td>9</td>\n",
       "    </tr>\n",
       "    <tr>\n",
       "      <th>Tucker Wetmore</th>\n",
       "      <td>9</td>\n",
       "      <td>10</td>\n",
       "      <td>10</td>\n",
       "      <td>10</td>\n",
       "      <td>10</td>\n",
       "    </tr>\n",
       "    <tr>\n",
       "      <th>Koe Wetzel</th>\n",
       "      <td>11</td>\n",
       "      <td>11</td>\n",
       "      <td>11</td>\n",
       "      <td>11</td>\n",
       "      <td>11</td>\n",
       "    </tr>\n",
       "    <tr>\n",
       "      <th>Lainey Wilson</th>\n",
       "      <td>12</td>\n",
       "      <td>12</td>\n",
       "      <td>12</td>\n",
       "      <td>12</td>\n",
       "      <td>12</td>\n",
       "    </tr>\n",
       "    <tr>\n",
       "      <th>Shaboozey</th>\n",
       "      <td>17</td>\n",
       "      <td>16</td>\n",
       "      <td>15</td>\n",
       "      <td>13</td>\n",
       "      <td>13</td>\n",
       "    </tr>\n",
       "    <tr>\n",
       "      <th>Jessie Murph</th>\n",
       "      <td>14</td>\n",
       "      <td>14</td>\n",
       "      <td>14</td>\n",
       "      <td>14</td>\n",
       "      <td>14</td>\n",
       "    </tr>\n",
       "    <tr>\n",
       "      <th>Chris Stapleton</th>\n",
       "      <td>15</td>\n",
       "      <td>15</td>\n",
       "      <td>16</td>\n",
       "      <td>15</td>\n",
       "      <td>15</td>\n",
       "    </tr>\n",
       "    <tr>\n",
       "      <th>Chase Matthew</th>\n",
       "      <td>19</td>\n",
       "      <td>20</td>\n",
       "      <td>20</td>\n",
       "      <td>20</td>\n",
       "      <td>16</td>\n",
       "    </tr>\n",
       "    <tr>\n",
       "      <th>Dasha</th>\n",
       "      <td>20</td>\n",
       "      <td>19</td>\n",
       "      <td>17</td>\n",
       "      <td>17</td>\n",
       "      <td>17</td>\n",
       "    </tr>\n",
       "    <tr>\n",
       "      <th>Nate Smith</th>\n",
       "      <td>16</td>\n",
       "      <td>17</td>\n",
       "      <td>19</td>\n",
       "      <td>18</td>\n",
       "      <td>18</td>\n",
       "    </tr>\n",
       "    <tr>\n",
       "      <th>The Red Clay Strays</th>\n",
       "      <td>18</td>\n",
       "      <td>18</td>\n",
       "      <td>18</td>\n",
       "      <td>19</td>\n",
       "      <td>19</td>\n",
       "    </tr>\n",
       "    <tr>\n",
       "      <th>Cody Johnson</th>\n",
       "      <td>13</td>\n",
       "      <td>13</td>\n",
       "      <td>13</td>\n",
       "      <td>16</td>\n",
       "      <td>20</td>\n",
       "    </tr>\n",
       "    <tr>\n",
       "      <th>Dustin Lynch</th>\n",
       "      <td>21</td>\n",
       "      <td>21</td>\n",
       "      <td>21</td>\n",
       "      <td>21</td>\n",
       "      <td>21</td>\n",
       "    </tr>\n",
       "    <tr>\n",
       "      <th>Chris Young</th>\n",
       "      <td>26</td>\n",
       "      <td>22</td>\n",
       "      <td>22</td>\n",
       "      <td>22</td>\n",
       "      <td>22</td>\n",
       "    </tr>\n",
       "    <tr>\n",
       "      <th>Tyler Braden</th>\n",
       "      <td>30</td>\n",
       "      <td>27</td>\n",
       "      <td>25</td>\n",
       "      <td>23</td>\n",
       "      <td>23</td>\n",
       "    </tr>\n",
       "    <tr>\n",
       "      <th>Riley Green</th>\n",
       "      <td>32</td>\n",
       "      <td>28</td>\n",
       "      <td>26</td>\n",
       "      <td>24</td>\n",
       "      <td>24</td>\n",
       "    </tr>\n",
       "    <tr>\n",
       "      <th>Luke Bryan</th>\n",
       "      <td>35</td>\n",
       "      <td>31</td>\n",
       "      <td>28</td>\n",
       "      <td>26</td>\n",
       "      <td>25</td>\n",
       "    </tr>\n",
       "  </tbody>\n",
       "</table>\n",
       "</div>"
      ],
      "text/plain": [
       "weeks_ago            -4  -3  -2  -1   0\n",
       "artist_name                            \n",
       "Zach Bryan            1   1   1   1   1\n",
       "Post Malone          10   7   4   3   2\n",
       "Morgan Wallen         2   2   2   2   3\n",
       "Beyonce               3   3   3   4   4\n",
       "Megan Moroney         4   4   5   5   5\n",
       "Jelly Roll            5   5   6   6   6\n",
       "Luke Combs            6   6   7   7   7\n",
       "Bailey Zimmerman      8   9   9   8   8\n",
       "Dylan Scott           7   8   8   9   9\n",
       "Tucker Wetmore        9  10  10  10  10\n",
       "Koe Wetzel           11  11  11  11  11\n",
       "Lainey Wilson        12  12  12  12  12\n",
       "Shaboozey            17  16  15  13  13\n",
       "Jessie Murph         14  14  14  14  14\n",
       "Chris Stapleton      15  15  16  15  15\n",
       "Chase Matthew        19  20  20  20  16\n",
       "Dasha                20  19  17  17  17\n",
       "Nate Smith           16  17  19  18  18\n",
       "The Red Clay Strays  18  18  18  19  19\n",
       "Cody Johnson         13  13  13  16  20\n",
       "Dustin Lynch         21  21  21  21  21\n",
       "Chris Young          26  22  22  22  22\n",
       "Tyler Braden         30  27  25  23  23\n",
       "Riley Green          32  28  26  24  24\n",
       "Luke Bryan           35  31  28  26  25"
      ]
     },
     "execution_count": 39,
     "metadata": {},
     "output_type": "execute_result"
    }
   ],
   "source": [
    "# TODO make this show NA() for lookback windows with zero artist song credits\n",
    "# TODO: this, but for all artists on this week's chart\n",
    "n_weeks_for_recent = 26\n",
    "\n",
    "df_artist_ranking_over_time = df_artist_ranking.pivot(\n",
    "    index = 'artist_name'\n",
    "    , columns = 'weeks_ago'\n",
    "    , values = 'artist_rank'\n",
    ").sort_values(0)\n",
    "\n",
    "df_artist_ranking_over_time.loc[:, -4:][: 25]"
   ]
  },
  {
   "cell_type": "code",
   "execution_count": 38,
   "id": "b3774145",
   "metadata": {},
   "outputs": [],
   "source": [
    "# %%sql df_current_chart_artists <<\n",
    "# TODO"
   ]
  },
  {
   "cell_type": "code",
   "execution_count": 39,
   "id": "0905adf4",
   "metadata": {},
   "outputs": [],
   "source": [
    "# TODO only include artists with at least one week on the chart in the past 26* weeks before this one\n",
    "# df_artist_ranking_over_time.loc[:, -4:]"
   ]
  },
  {
   "cell_type": "code",
   "execution_count": null,
   "id": "89fadce3",
   "metadata": {},
   "outputs": [],
   "source": []
  },
  {
   "cell_type": "code",
   "execution_count": 40,
   "id": "0e28b8b9",
   "metadata": {
    "scrolled": true
   },
   "outputs": [],
   "source": [
    "# Above, but for every artist on this week's chart\n",
    "## TODO\n",
    "# current_chart_artists = ['Post Malone', 'Megan Moroney'] # example\n",
    "# df_scratch = df_artist_ranking_over_time.loc[current_chart_artists, -4:]\n",
    "\n",
    "# df_scratch\n",
    "# df_scratch.style.apply(lambda row: np.where(row.index.isin([\"Post Malone\", \"-2\"]), \"background-color:green\", \"background-color:red\"), axis=1)\n",
    "# # TODO: And last week's chart if they fell off\n",
    "\n",
    "# color_by_ix = {}\n",
    "# for ix in list(df_scratch.index):\n",
    "#     if ix in ['Post Malone']:\n",
    "#         color_by_ix[ix] = 'background-color:green' # Does this need to be a whole generator?\n",
    "#     else:\n",
    "#         color_by_ix[ix] = 'background-color:red' # Once this works, just make this ''\n",
    "            \n",
    "# df_artist_ranking_over_time.apply(color_by_ix, axis=1)"
   ]
  },
  {
   "cell_type": "code",
   "execution_count": 40,
   "id": "f1dc99d8",
   "metadata": {},
   "outputs": [
    {
     "data": {
      "image/png": "[encoded data removed]",
      "text/plain": [
       "<Figure size 576x360 with 1 Axes>"
      ]
     },
     "metadata": {},
     "output_type": "display_data"
    }
   ],
   "source": [
    "graph = sns.lineplot(\n",
    "    data = df_artist_ranking.pivot(\n",
    "        index = 'artist_name'\n",
    "        , columns = 'weeks_ago'\n",
    "        , values = 'recent_weeks_main_artist' # 'recent_weeks_artist' to include featured song weeks\n",
    "      ).loc[\n",
    "        df_artist_ranking_over_time[0].keys() # maintain order from rank\n",
    "      ][:7].fillna(np.inf).T \n",
    "      / n_weeks_for_recent\n",
    "    , dashes = False\n",
    "    , palette = 'bright'\n",
    ")\n",
    "graph.set(\n",
    "    title = 'Avg # of songs/week as main artist in trailing 26 weeks'\n",
    "    , ylabel = 'Avg # songs on chart'\n",
    "    , xlabel = 'Weeks ago'\n",
    ")\n",
    "\n",
    "plt.legend(title = 'Artist')\n",
    "\n",
    "plt.show()\n",
    "# size = scale up plot size, then scale up number of lines"
   ]
  },
  {
   "cell_type": "code",
   "execution_count": 41,
   "id": "76af3eba",
   "metadata": {
    "scrolled": false
   },
   "outputs": [
    {
     "data": {
      "text/html": [
       "<div>\n",
       "<style scoped>\n",
       "    .dataframe tbody tr th:only-of-type {\n",
       "        vertical-align: middle;\n",
       "    }\n",
       "\n",
       "    .dataframe tbody tr th {\n",
       "        vertical-align: top;\n",
       "    }\n",
       "\n",
       "    .dataframe thead th {\n",
       "        text-align: right;\n",
       "    }\n",
       "</style>\n",
       "<table border=\"1\" class=\"dataframe\">\n",
       "  <thead>\n",
       "    <tr style=\"text-align: right;\">\n",
       "      <th></th>\n",
       "      <th>1</th>\n",
       "      <th>2</th>\n",
       "      <th>3</th>\n",
       "      <th>4</th>\n",
       "      <th>5</th>\n",
       "      <th>6</th>\n",
       "      <th>7</th>\n",
       "      <th>8</th>\n",
       "      <th>9</th>\n",
       "      <th>10</th>\n",
       "      <th>11</th>\n",
       "      <th>12</th>\n",
       "      <th>13</th>\n",
       "      <th>14</th>\n",
       "      <th>15</th>\n",
       "      <th>16</th>\n",
       "      <th>17</th>\n",
       "      <th>18</th>\n",
       "      <th>19</th>\n",
       "    </tr>\n",
       "  </thead>\n",
       "  <tbody>\n",
       "    <tr>\n",
       "      <th>0</th>\n",
       "      <td>Zach Bryan</td>\n",
       "      <td>0</td>\n",
       "      <td>127</td>\n",
       "      <td>127</td>\n",
       "      <td>127</td>\n",
       "      <td>306</td>\n",
       "      <td>306</td>\n",
       "      <td>306</td>\n",
       "      <td>22</td>\n",
       "      <td>22</td>\n",
       "      <td>22</td>\n",
       "      <td>28</td>\n",
       "      <td>28</td>\n",
       "      <td>28</td>\n",
       "      <td>2.0</td>\n",
       "      <td>2.0</td>\n",
       "      <td>1.0</td>\n",
       "      <td>1</td>\n",
       "      <td>2024-01-06</td>\n",
       "    </tr>\n",
       "    <tr>\n",
       "      <th>1</th>\n",
       "      <td>Post Malone</td>\n",
       "      <td>0</td>\n",
       "      <td>78</td>\n",
       "      <td>83</td>\n",
       "      <td>83</td>\n",
       "      <td>78</td>\n",
       "      <td>83</td>\n",
       "      <td>83</td>\n",
       "      <td>19</td>\n",
       "      <td>20</td>\n",
       "      <td>20</td>\n",
       "      <td>19</td>\n",
       "      <td>20</td>\n",
       "      <td>20</td>\n",
       "      <td>1.0</td>\n",
       "      <td>1.0</td>\n",
       "      <td>1.0</td>\n",
       "      <td>1</td>\n",
       "      <td>2024-04-09</td>\n",
       "    </tr>\n",
       "    <tr>\n",
       "      <th>2</th>\n",
       "      <td>Morgan Wallen</td>\n",
       "      <td>0</td>\n",
       "      <td>55</td>\n",
       "      <td>78</td>\n",
       "      <td>93</td>\n",
       "      <td>220</td>\n",
       "      <td>243</td>\n",
       "      <td>283</td>\n",
       "      <td>6</td>\n",
       "      <td>8</td>\n",
       "      <td>10</td>\n",
       "      <td>6</td>\n",
       "      <td>8</td>\n",
       "      <td>10</td>\n",
       "      <td>1.0</td>\n",
       "      <td>1.0</td>\n",
       "      <td>1.0</td>\n",
       "      <td>1</td>\n",
       "      <td>2024-01-06</td>\n",
       "    </tr>\n",
       "    <tr>\n",
       "      <th>3</th>\n",
       "      <td>Beyonce</td>\n",
       "      <td>0</td>\n",
       "      <td>70</td>\n",
       "      <td>70</td>\n",
       "      <td>70</td>\n",
       "      <td>80</td>\n",
       "      <td>80</td>\n",
       "      <td>80</td>\n",
       "      <td>16</td>\n",
       "      <td>16</td>\n",
       "      <td>16</td>\n",
       "      <td>16</td>\n",
       "      <td>16</td>\n",
       "      <td>16</td>\n",
       "      <td>1.0</td>\n",
       "      <td>1.0</td>\n",
       "      <td>1.0</td>\n",
       "      <td>1</td>\n",
       "      <td>2024-02-21</td>\n",
       "    </tr>\n",
       "    <tr>\n",
       "      <th>4</th>\n",
       "      <td>Megan Moroney</td>\n",
       "      <td>0</td>\n",
       "      <td>52</td>\n",
       "      <td>58</td>\n",
       "      <td>58</td>\n",
       "      <td>89</td>\n",
       "      <td>105</td>\n",
       "      <td>105</td>\n",
       "      <td>6</td>\n",
       "      <td>7</td>\n",
       "      <td>7</td>\n",
       "      <td>6</td>\n",
       "      <td>7</td>\n",
       "      <td>7</td>\n",
       "      <td>21.0</td>\n",
       "      <td>21.0</td>\n",
       "      <td>13.0</td>\n",
       "      <td>13</td>\n",
       "      <td>2024-01-06</td>\n",
       "    </tr>\n",
       "    <tr>\n",
       "      <th>...</th>\n",
       "      <td>...</td>\n",
       "      <td>...</td>\n",
       "      <td>...</td>\n",
       "      <td>...</td>\n",
       "      <td>...</td>\n",
       "      <td>...</td>\n",
       "      <td>...</td>\n",
       "      <td>...</td>\n",
       "      <td>...</td>\n",
       "      <td>...</td>\n",
       "      <td>...</td>\n",
       "      <td>...</td>\n",
       "      <td>...</td>\n",
       "      <td>...</td>\n",
       "      <td>...</td>\n",
       "      <td>...</td>\n",
       "      <td>...</td>\n",
       "      <td>...</td>\n",
       "      <td>...</td>\n",
       "    </tr>\n",
       "    <tr>\n",
       "      <th>104</th>\n",
       "      <td>Carin Leon</td>\n",
       "      <td>0</td>\n",
       "      <td>0</td>\n",
       "      <td>0</td>\n",
       "      <td>0</td>\n",
       "      <td>1</td>\n",
       "      <td>1</td>\n",
       "      <td>1</td>\n",
       "      <td>0</td>\n",
       "      <td>0</td>\n",
       "      <td>0</td>\n",
       "      <td>1</td>\n",
       "      <td>1</td>\n",
       "      <td>1</td>\n",
       "      <td>NaN</td>\n",
       "      <td>NaN</td>\n",
       "      <td>48.0</td>\n",
       "      <td>48</td>\n",
       "      <td>2024-03-13</td>\n",
       "    </tr>\n",
       "    <tr>\n",
       "      <th>105</th>\n",
       "      <td>Dierks Bentley</td>\n",
       "      <td>0</td>\n",
       "      <td>0</td>\n",
       "      <td>0</td>\n",
       "      <td>0</td>\n",
       "      <td>1</td>\n",
       "      <td>1</td>\n",
       "      <td>1</td>\n",
       "      <td>0</td>\n",
       "      <td>0</td>\n",
       "      <td>0</td>\n",
       "      <td>1</td>\n",
       "      <td>1</td>\n",
       "      <td>1</td>\n",
       "      <td>NaN</td>\n",
       "      <td>NaN</td>\n",
       "      <td>49.0</td>\n",
       "      <td>49</td>\n",
       "      <td>2024-03-05</td>\n",
       "    </tr>\n",
       "    <tr>\n",
       "      <th>106</th>\n",
       "      <td>Brothers Osborne</td>\n",
       "      <td>0</td>\n",
       "      <td>0</td>\n",
       "      <td>0</td>\n",
       "      <td>0</td>\n",
       "      <td>1</td>\n",
       "      <td>1</td>\n",
       "      <td>1</td>\n",
       "      <td>0</td>\n",
       "      <td>0</td>\n",
       "      <td>0</td>\n",
       "      <td>1</td>\n",
       "      <td>1</td>\n",
       "      <td>1</td>\n",
       "      <td>NaN</td>\n",
       "      <td>NaN</td>\n",
       "      <td>49.0</td>\n",
       "      <td>49</td>\n",
       "      <td>2024-01-13</td>\n",
       "    </tr>\n",
       "    <tr>\n",
       "      <th>107</th>\n",
       "      <td>The War And The Treaty</td>\n",
       "      <td>0</td>\n",
       "      <td>0</td>\n",
       "      <td>0</td>\n",
       "      <td>0</td>\n",
       "      <td>0</td>\n",
       "      <td>0</td>\n",
       "      <td>28</td>\n",
       "      <td>0</td>\n",
       "      <td>0</td>\n",
       "      <td>0</td>\n",
       "      <td>0</td>\n",
       "      <td>0</td>\n",
       "      <td>1</td>\n",
       "      <td>NaN</td>\n",
       "      <td>NaN</td>\n",
       "      <td>NaN</td>\n",
       "      <td>16</td>\n",
       "      <td>2024-01-06</td>\n",
       "    </tr>\n",
       "    <tr>\n",
       "      <th>108</th>\n",
       "      <td>The Lumineers</td>\n",
       "      <td>0</td>\n",
       "      <td>0</td>\n",
       "      <td>0</td>\n",
       "      <td>0</td>\n",
       "      <td>0</td>\n",
       "      <td>0</td>\n",
       "      <td>20</td>\n",
       "      <td>0</td>\n",
       "      <td>0</td>\n",
       "      <td>0</td>\n",
       "      <td>0</td>\n",
       "      <td>0</td>\n",
       "      <td>1</td>\n",
       "      <td>NaN</td>\n",
       "      <td>NaN</td>\n",
       "      <td>NaN</td>\n",
       "      <td>31</td>\n",
       "      <td>2024-01-06</td>\n",
       "    </tr>\n",
       "  </tbody>\n",
       "</table>\n",
       "<p>109 rows × 19 columns</p>\n",
       "</div>"
      ],
      "text/plain": [
       "                         1   2    3    4    5    6    7    8   9   10  11  12  \\\n",
       "0                Zach Bryan   0  127  127  127  306  306  306  22  22  22  28   \n",
       "1               Post Malone   0   78   83   83   78   83   83  19  20  20  19   \n",
       "2             Morgan Wallen   0   55   78   93  220  243  283   6   8  10   6   \n",
       "3                   Beyonce   0   70   70   70   80   80   80  16  16  16  16   \n",
       "4             Megan Moroney   0   52   58   58   89  105  105   6   7   7   6   \n",
       "..                      ...  ..  ...  ...  ...  ...  ...  ...  ..  ..  ..  ..   \n",
       "104              Carin Leon   0    0    0    0    1    1    1   0   0   0   1   \n",
       "105          Dierks Bentley   0    0    0    0    1    1    1   0   0   0   1   \n",
       "106        Brothers Osborne   0    0    0    0    1    1    1   0   0   0   1   \n",
       "107  The War And The Treaty   0    0    0    0    0    0   28   0   0   0   0   \n",
       "108           The Lumineers   0    0    0    0    0    0   20   0   0   0   0   \n",
       "\n",
       "     13  14    15    16    17  18          19  \n",
       "0    28  28   2.0   2.0   1.0   1  2024-01-06  \n",
       "1    20  20   1.0   1.0   1.0   1  2024-04-09  \n",
       "2     8  10   1.0   1.0   1.0   1  2024-01-06  \n",
       "3    16  16   1.0   1.0   1.0   1  2024-02-21  \n",
       "4     7   7  21.0  21.0  13.0  13  2024-01-06  \n",
       "..   ..  ..   ...   ...   ...  ..         ...  \n",
       "104   1   1   NaN   NaN  48.0  48  2024-03-13  \n",
       "105   1   1   NaN   NaN  49.0  49  2024-03-05  \n",
       "106   1   1   NaN   NaN  49.0  49  2024-01-13  \n",
       "107   0   1   NaN   NaN   NaN  16  2024-01-06  \n",
       "108   0   1   NaN   NaN   NaN  31  2024-01-06  \n",
       "\n",
       "[109 rows x 19 columns]"
      ]
     },
     "execution_count": 41,
     "metadata": {},
     "output_type": "execute_result"
    }
   ],
   "source": [
    "# Current artist rankings\n",
    "pd.set_option('display.max_rows', 105)\n",
    "cols = list(df_artist_ranking.columns)\n",
    "col_nums = { col:ix for (col,ix) in zip(cols, range(len(cols))) }\n",
    "df_artist_ranking_compact = df_artist_ranking.rename(columns = col_nums)\n",
    "df_artist_ranking_compact \\\n",
    "    .loc[:, 1 : len(cols) - 2 ][\n",
    "        (df_artist_ranking['weeks_ago'] == 0)\n",
    "        # & (df_artist_ranking['artist_name'].isin(current_artists))\n",
    "]#.tail(25)"
   ]
  },
  {
   "cell_type": "code",
   "execution_count": 42,
   "id": "9b6b74ea",
   "metadata": {},
   "outputs": [],
   "source": [
    "%%sql df_weeks_for_artist <<\n",
    "SELECT\n",
    "    br.billboard_observation_date\n",
    "    , br.song_id\n",
    "    , ss.song_name\n",
    "    , br.billboard_rank\n",
    "    , s2a.artist_id\n",
    "    , art.artist_name\n",
    "    , s2a.relationship_type\n",
    "    , art.pct_female\n",
    "FROM raw_db.billboard.billboard_ranking br\n",
    "LEFT JOIN raw_db.billboard.song ss\n",
    "    ON br.song_id = ss.song_id\n",
    "LEFT JOIN raw_db.billboard.song_to_artist s2a\n",
    "    ON br.song_id = s2a.song_id\n",
    "LEFT JOIN raw_db.billboard.artist art\n",
    "    ON s2a.artist_id = art.artist_id\n",
    "ORDER BY 1 ASC"
   ]
  },
  {
   "cell_type": "code",
   "execution_count": 43,
   "id": "39b1d36f",
   "metadata": {},
   "outputs": [],
   "source": [
    "df_by_reln_type = df_weeks_for_artist.groupby(\n",
    "        ['billboard_observation_date', 'relationship_type']\n",
    "    ).agg(['mean', 'count'])['pct_female'].reset_index()\n",
    "df_by_reln_type['wtd_avg_numerator'] = df_by_reln_type['mean'] * df_by_reln_type['count']\n",
    "\n",
    "df_all_credits = df_by_reln_type.groupby('billboard_observation_date').sum()\n",
    "df_all_credits['mean'] = df_all_credits['wtd_avg_numerator'] / df_all_credits['count']\n",
    "df_all_credits.reset_index(inplace = True)\n",
    "df_all_credits['relationship_type'] = 'All credited artists'\n",
    "\n",
    "df_mains = df_by_reln_type[\n",
    "    df_by_reln_type['relationship_type'].isin(['Lead artist', 'Other main artist'])\n",
    "].groupby('billboard_observation_date').sum()\n",
    "df_mains['mean'] = df_mains['wtd_avg_numerator'] / df_mains['count']\n",
    "df_mains.reset_index(inplace = True)\n",
    "df_mains['relationship_type'] = 'All main artists'\n",
    "\n",
    "col_order = [\n",
    "    'billboard_observation_date'\n",
    "    , 'relationship_type'\n",
    "    , 'mean'\n",
    "    , 'count'\n",
    "    , 'wtd_avg_numerator'\n",
    "]\n",
    "\n",
    "df_pct_female = pd.concat([\n",
    "    df_by_reln_type\n",
    "    , df_all_credits[col_order]\n",
    "    , df_mains[col_order]\n",
    "])"
   ]
  },
  {
   "cell_type": "code",
   "execution_count": 44,
   "id": "c83cd110",
   "metadata": {},
   "outputs": [
    {
     "data": {
      "image/png": "[encoded data removed]",
      "text/plain": [
       "<Figure size 576x360 with 1 Axes>"
      ]
     },
     "metadata": {},
     "output_type": "display_data"
    }
   ],
   "source": [
    "palette = {\n",
    "    'Lead artist' : 'xkcd:dark red'\n",
    "    , 'All main artists' : 'xkcd:pink'\n",
    "    , 'All credited artists' : 'xkcd:cool gray'\n",
    "}\n",
    "\n",
    "graph = sns.lineplot(\n",
    "    data = df_pct_female[\n",
    "        df_pct_female['relationship_type'].isin(palette.keys())\n",
    "    ]\n",
    "    , x = 'billboard_observation_date'\n",
    "    , y = 'mean'\n",
    "    , hue = 'relationship_type'\n",
    "    , palette = palette\n",
    "    , linewidth = 2.5 # TODO make variable\n",
    ").set(\n",
    "    title = '% of Chart Female by Credit Type'\n",
    "    , xlabel = 'Billboard Release Date' # Really observation date (for now)\n",
    "    , ylabel = '% Female'\n",
    "    , ylim = [0, 0.5]\n",
    ")#.tick_params(axis='x', colors='red') # TOFIX\n",
    "\n",
    "plt.legend(title = 'Role on Song')\n",
    "plt.gca().yaxis.set_major_formatter(mtick.PercentFormatter(xmax = 1))\n",
    "# plt.hlines([0.5], date('2024-04-01'), date('2024-10-01')) #TOFIX"
   ]
  },
  {
   "cell_type": "code",
   "execution_count": 45,
   "id": "8547cde0",
   "metadata": {},
   "outputs": [],
   "source": [
    "credit_type_to_linestyle = {\n",
    "    'Lead artist' : 'solid'\n",
    "    , 'Other main artist' : 'dashed'\n",
    "    , 'Featured artist' : 'dotted'\n",
    "}"
   ]
  },
  {
   "cell_type": "code",
   "execution_count": 46,
   "id": "521abb7b",
   "metadata": {},
   "outputs": [
    {
     "data": {
      "text/plain": [
       "artist_name\n",
       "Zach Bryan         8\n",
       "Luke Combs         4\n",
       "Chris Stapleton    3\n",
       "Morgan Wallen      3\n",
       "Cody Johnson       2\n",
       "Dylan Scott        2\n",
       "Jelly Roll         2\n",
       "Lainey Wilson      2\n",
       "Name: song_id, dtype: int64"
      ]
     },
     "execution_count": 46,
     "metadata": {},
     "output_type": "execute_result"
    }
   ],
   "source": [
    "# TODO enrich with n_songs from above\n",
    "df_weeks_for_artist[\n",
    "    df_weeks_for_artist['billboard_observation_date'] == billboard_observation_date\n",
    "].groupby('artist_name').count().iloc[:,1].loc[\n",
    "    lambda x: x > 1\n",
    "].sort_values(ascending = False)"
   ]
  },
  {
   "cell_type": "markdown",
   "id": "f339ce7a",
   "metadata": {},
   "source": [
    "To Be A Man: Dax(108) & Darius Rucker(109) +5"
   ]
  },
  {
   "cell_type": "code",
   "execution_count": 55,
   "id": "7458c5cb",
   "metadata": {
    "scrolled": true
   },
   "outputs": [
    {
     "data": {
      "image/png": "[encoded data removed]",
      "text/plain": [
       "<Figure size 576x360 with 1 Axes>"
      ]
     },
     "metadata": {},
     "output_type": "display_data"
    }
   ],
   "source": [
    "# For now, manual artist name selection\n",
    "# TODO: Create charts for every artist on this week's chart at once\n",
    "artist_name = 'Zach Bryan' # TODO: use artist ID, but label with artist_name\n",
    "\n",
    "df_weeks_this_artist = df_weeks_for_artist.query(\n",
    "    f\"artist_name == '{artist_name}'\"\n",
    ")\n",
    "\n",
    "sns.color_palette('Paired') # TOFIX\n",
    "for _, row in df_weeks_this_artist.pivot( # TODO no pivot to support legend in char 'song_name'\n",
    "    index = 'song_id'\n",
    "    , columns = 'billboard_observation_date' #TODO: weeks ago\n",
    "    , values = 'billboard_rank'\n",
    ").fillna(\n",
    "    np.inf # suppresses only if a different song is on the chart that week\n",
    ").iterrows():\n",
    "    graph = sns.lineplot(\n",
    "        data = row\n",
    "        , linestyle = credit_type_to_linestyle[\n",
    "            df_weeks_this_artist[\n",
    "                df_weeks_this_artist['song_id'] == row.name\n",
    "            ].groupby('relationship_type').count().iloc[0].name\n",
    "        ]\n",
    "        , marker = '.'\n",
    "    )\n",
    "    \n",
    "graph.set(\n",
    "    title = f'All Songs By {artist_name}'\n",
    "    , xlabel = 'Billboard Release Date' # Really observation date (for now)\n",
    "    , ylabel = 'Rank on Chart'\n",
    "    , ylim = [0, 51]\n",
    ") # TODO suppress vertical gridlines\n",
    "graph.axes.invert_yaxis()"
   ]
  },
  {
   "cell_type": "code",
   "execution_count": null,
   "id": "fcb9e309",
   "metadata": {},
   "outputs": [],
   "source": []
  },
  {
   "cell_type": "code",
   "execution_count": 49,
   "id": "6c34d576",
   "metadata": {},
   "outputs": [
    {
     "name": "stdout",
     "output_type": "stream",
     "text": [
      "┌────────────────────────────┬───────┐\n",
      "│ billboard_observation_date │   n   │\n",
      "│            date            │ int64 │\n",
      "├────────────────────────────┼───────┤\n",
      "│ 2024-09-17                 │    50 │\n",
      "│ 2024-09-10                 │    50 │\n",
      "│ 2024-09-05                 │    50 │\n",
      "│ 2024-08-27                 │    50 │\n",
      "│ 2024-08-23                 │    50 │\n",
      "│ 2024-08-13                 │    50 │\n",
      "│ 2024-08-07                 │    50 │\n",
      "│ 2024-07-31                 │    50 │\n",
      "│ 2024-07-23                 │    50 │\n",
      "│ 2024-07-16                 │    50 │\n",
      "│     ·                      │     · │\n",
      "│     ·                      │     · │\n",
      "│     ·                      │     · │\n",
      "│ 2024-04-02                 │    50 │\n",
      "│ 2024-03-26                 │    50 │\n",
      "│ 2024-03-19                 │    50 │\n",
      "│ 2024-03-13                 │    50 │\n",
      "│ 2024-03-05                 │    50 │\n",
      "│ 2024-02-27                 │    50 │\n",
      "│ 2024-02-21                 │    50 │\n",
      "│ 2024-02-17                 │    50 │\n",
      "│ 2024-02-10                 │    50 │\n",
      "│ 2024-02-03                 │    50 │\n",
      "├────────────────────────────┴───────┤\n",
      "│ 34 rows (20 shown)       2 columns │\n",
      "└────────────────────────────────────┘\n",
      "\n"
     ]
    }
   ],
   "source": [
    "with duckdb.connect('raw_db.duckdb') as conn:\n",
    "    print(conn.sql(\n",
    "        \"\"\"\n",
    "        SELECT billboard_observation_date, COUNT(1) n\n",
    "        FROM raw_db.billboard.billboard_ranking\n",
    "        GROUP BY 1\n",
    "        ORDER BY 1 DESC\n",
    "        \"\"\"\n",
    "    ))"
   ]
  },
  {
   "cell_type": "code",
   "execution_count": 50,
   "id": "d88e5cd9",
   "metadata": {},
   "outputs": [
    {
     "name": "stdout",
     "output_type": "stream",
     "text": [
      "┌─────────┬───────────────────────────┬────────────────┐\n",
      "│ song_id │         song_name         │ ranking_before │\n",
      "│  int32  │          varchar          │     int32      │\n",
      "├─────────┼───────────────────────────┼────────────────┤\n",
      "│      34 │ A Bar Song (Tipsy)        │              1 │\n",
      "│      38 │ I Had Some Help           │              2 │\n",
      "│      40 │ Ain't No Love In Oklahoma │              3 │\n",
      "│      32 │ Cowgirls                  │              4 │\n",
      "│      37 │ Miles On It               │              5 │\n",
      "│      58 │ Lies Lies Lies            │              6 │\n",
      "│      43 │ Pink Skies                │              7 │\n",
      "│      27 │ Austin                    │              8 │\n",
      "│      48 │ I Am Not Okay             │              9 │\n",
      "│      52 │ Pour Me A Drink           │             10 │\n",
      "│       · │        ·                  │              · │\n",
      "│       · │        ·                  │              · │\n",
      "│       · │        ·                  │              · │\n",
      "│      31 │ What He'll Never Have     │             41 │\n",
      "│      55 │ Cowboys Cry Too           │             42 │\n",
      "│     107 │ Porch Light               │             43 │\n",
      "│      45 │ Wanna Be Loved            │             44 │\n",
      "│      68 │ Just Like Johnny          │             45 │\n",
      "│      46 │ Maxed Out                 │             46 │\n",
      "│      82 │ Yours                     │             47 │\n",
      "│      80 │ Finer Things              │             48 │\n",
      "│      70 │ Sounds Like The Radio     │             49 │\n",
      "│      63 │ Out Of Oklahoma           │             50 │\n",
      "├─────────┴───────────────────────────┴────────────────┤\n",
      "│ 48 rows (20 shown)                         3 columns │\n",
      "└──────────────────────────────────────────────────────┘\n",
      "\n"
     ]
    }
   ],
   "source": [
    "# TODO: Set comparison_observation_date as num weeks back, not specific date\n",
    "current_observation_date = billboard_observation_date\n",
    "comparison_observation_date = '2024-09-10'\n",
    "\n",
    "with duckdb.connect('raw_db.duckdb') as conn:\n",
    "    with open('analysis/removed_songs.sql') as sql_file:\n",
    "        removed_songs = conn.sql(\n",
    "            sql_file.read().format(\n",
    "                current_observation_date\n",
    "                , comparison_observation_date\n",
    "            )\n",
    "        )\n",
    "    print(removed_songs)"
   ]
  },
  {
   "cell_type": "code",
   "execution_count": 51,
   "id": "64b278ec",
   "metadata": {},
   "outputs": [],
   "source": [
    "# TODO consider adding a measurement start date column\n",
    "    # for Friday of each week based on observation date"
   ]
  },
  {
   "cell_type": "code",
   "execution_count": 52,
   "id": "4f83d861",
   "metadata": {},
   "outputs": [],
   "source": [
    "%%sql df_weeks <<\n",
    "SELECT\n",
    "    br.billboard_observation_date\n",
    "    , br.song_id\n",
    "    , ss.song_name\n",
    "    , br.billboard_rank\n",
    "FROM raw_db.billboard.billboard_ranking br\n",
    "LEFT JOIN raw_db.billboard.song ss\n",
    "    ON br.song_id = ss.song_id\n",
    "ORDER BY 1 ASC"
   ]
  },
  {
   "cell_type": "code",
   "execution_count": 53,
   "id": "cf62185f",
   "metadata": {},
   "outputs": [
    {
     "data": {
      "image/png": "[encoded data removed]",
      "text/plain": [
       "<Figure size 576x360 with 1 Axes>"
      ]
     },
     "metadata": {},
     "output_type": "display_data"
    }
   ],
   "source": [
    "for _, row in df_weeks.query(\n",
    "    # f\"billboard_observation_date == '2024-09-10'\"\n",
    "    f\"billboard_observation_date == '{billboard_observation_date}'\"\n",
    ").sort_values('billboard_rank').iterrows():\n",
    "    this_song = df_weeks[\n",
    "        df_weeks['song_id'] == row['song_id']\n",
    "    ].sort_values('billboard_observation_date').fillna(\n",
    "        np.inf # Not working fully to show gaps as missing\n",
    "    )\n",
    "    \n",
    "    graph = sns.lineplot(\n",
    "        data = this_song\n",
    "        , x = 'billboard_observation_date' # TODO: weeks back instead of obs date\n",
    "        , y = 'billboard_rank'\n",
    "        , marker = ',' # TODO: add back with bigger chart\n",
    "        , dashes = False\n",
    "        , linewidth = 0.75\n",
    "        # , hue='k' # Not working with error 'cannot be assigned with wide-form data'\n",
    "    )#.set_title(this_song.reset_index()['song_name'][0])\n",
    "    \n",
    "graph.axes.invert_yaxis()\n",
    "# TODO: Spin x-axis labels\n",
    "# TODO: Make this about 4x bigger"
   ]
  },
  {
   "cell_type": "code",
   "execution_count": 59,
   "id": "dd201f3c",
   "metadata": {},
   "outputs": [],
   "source": [
    "# TODO maybe: Each song on its own tile, rather than overlapped"
   ]
  },
  {
   "cell_type": "code",
   "execution_count": null,
   "id": "7fe8dce7",
   "metadata": {},
   "outputs": [],
   "source": []
  }
 ],
 "metadata": {
  "kernelspec": {
   "display_name": "Python 3",
   "language": "python",
   "name": "python3"
  },
  "language_info": {
   "codemirror_mode": {
    "name": "ipython",
    "version": 3
   },
   "file_extension": ".py",
   "mimetype": "text/x-python",
   "name": "python",
   "nbconvert_exporter": "python",
   "pygments_lexer": "ipython3",
   "version": "3.8.8"
  }
 },
 "nbformat": 4,
 "nbformat_minor": 5
}
