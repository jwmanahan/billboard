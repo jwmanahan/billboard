{
 "cells": [
  {
   "cell_type": "code",
   "execution_count": 1,
   "id": "d70db714",
   "metadata": {},
   "outputs": [
    {
     "name": "stdout",
     "output_type": "stream",
     "text": [
      "Requirement already satisfied: duckdb in c:\\programdata\\anaconda3\\lib\\site-packages (1.0.0)\n",
      "Note: you may need to restart the kernel to use updated packages.\n"
     ]
    }
   ],
   "source": [
    "pip install duckdb"
   ]
  },
  {
   "cell_type": "code",
   "execution_count": 2,
   "id": "028460c4",
   "metadata": {},
   "outputs": [],
   "source": [
    "# pip install jupysql\n",
    "# pip install notebook"
   ]
  },
  {
   "cell_type": "code",
   "execution_count": 3,
   "id": "90df98ff",
   "metadata": {},
   "outputs": [
    {
     "name": "stdout",
     "output_type": "stream",
     "text": [
      "Collecting duckdb-engine\n",
      "  Using cached duckdb_engine-0.13.1-py3-none-any.whl (47 kB)\n",
      "Collecting packaging>=21\n",
      "  Using cached packaging-24.1-py3-none-any.whl (53 kB)\n",
      "Requirement already satisfied: duckdb>=0.5.0 in c:\\programdata\\anaconda3\\lib\\site-packages (from duckdb-engine) (1.0.0)\n",
      "Requirement already satisfied: sqlalchemy>=1.3.22 in c:\\programdata\\anaconda3\\lib\\site-packages (from duckdb-engine) (1.4.7)\n",
      "Requirement already satisfied: greenlet!=0.4.17 in c:\\programdata\\anaconda3\\lib\\site-packages (from sqlalchemy>=1.3.22->duckdb-engine) (1.0.0)\n",
      "Installing collected packages: packaging, duckdb-engine\n",
      "  Attempting uninstall: packaging\n",
      "    Found existing installation: packaging 20.9\n",
      "    Uninstalling packaging-20.9:\n",
      "      Successfully uninstalled packaging-20.9\n",
      "Successfully installed duckdb-engine-0.13.1 packaging-24.1\n",
      "Note: you may need to restart the kernel to use updated packages.\n"
     ]
    }
   ],
   "source": [
    "# If on windows, this only works if you're running Jupyter as an admin\n",
    "pip install duckdb-engine"
   ]
  },
  {
   "cell_type": "code",
   "execution_count": 82,
   "id": "a5c2b223",
   "metadata": {},
   "outputs": [
    {
     "name": "stdout",
     "output_type": "stream",
     "text": [
      "Collecting tabulate\n",
      "  Downloading tabulate-0.9.0-py3-none-any.whl (35 kB)\n",
      "Installing collected packages: tabulate\n",
      "Successfully installed tabulate-0.9.0\n",
      "Note: you may need to restart the kernel to use updated packages.\n"
     ]
    }
   ],
   "source": [
    "pip install tabulate"
   ]
  },
  {
   "cell_type": "code",
   "execution_count": 4,
   "id": "f0f0bca4",
   "metadata": {},
   "outputs": [
    {
     "name": "stdout",
     "output_type": "stream",
     "text": [
      "Requirement already satisfied: sqlalchemy in c:\\programdata\\anaconda3\\lib\\site-packages (1.4.7)\n",
      "Requirement already satisfied: greenlet!=0.4.17 in c:\\programdata\\anaconda3\\lib\\site-packages (from sqlalchemy) (1.0.0)\n",
      "Note: you may need to restart the kernel to use updated packages.\n"
     ]
    }
   ],
   "source": [
    "pip install sqlalchemy"
   ]
  },
  {
   "cell_type": "code",
   "execution_count": 107,
   "id": "5b18b735",
   "metadata": {},
   "outputs": [
    {
     "name": "stdout",
     "output_type": "stream",
     "text": [
      "The sql extension is already loaded. To reload it, use:\n",
      "  %reload_ext sql\n"
     ]
    }
   ],
   "source": [
    "import numpy as np\n",
    "import pandas as pd\n",
    "import seaborn as sns\n",
    "import duckdb\n",
    "import sqlalchemy\n",
    "from datetime import date\n",
    "import json\n",
    "%load_ext sql"
   ]
  },
  {
   "cell_type": "code",
   "execution_count": 6,
   "id": "b2ed042b",
   "metadata": {},
   "outputs": [],
   "source": [
    "# Set up SQL connection\n",
    "%config SqlMagic.autopandas = True\n",
    "%config SqlMagic.feedback = False\n",
    "%config SqlMagic.displaycon = False"
   ]
  },
  {
   "cell_type": "code",
   "execution_count": 95,
   "id": "ab567b6f",
   "metadata": {},
   "outputs": [],
   "source": [
    "current_date = date.today().strftime('%Y-%m-%d')"
   ]
  },
  {
   "cell_type": "code",
   "execution_count": 8,
   "id": "4d7c12c1",
   "metadata": {},
   "outputs": [],
   "source": [
    "# Replace with your filepath. Forward slashes work for Windows too\n",
    "%sql duckdb:///C:/Users/Admin/billboard/raw_db.duckdb"
   ]
  },
  {
   "cell_type": "code",
   "execution_count": 14,
   "id": "50128b36",
   "metadata": {},
   "outputs": [
    {
     "data": {
      "text/html": [
       "<div>\n",
       "<style scoped>\n",
       "    .dataframe tbody tr th:only-of-type {\n",
       "        vertical-align: middle;\n",
       "    }\n",
       "\n",
       "    .dataframe tbody tr th {\n",
       "        vertical-align: top;\n",
       "    }\n",
       "\n",
       "    .dataframe thead th {\n",
       "        text-align: right;\n",
       "    }\n",
       "</style>\n",
       "<table border=\"1\" class=\"dataframe\">\n",
       "  <thead>\n",
       "    <tr style=\"text-align: right;\">\n",
       "      <th></th>\n",
       "      <th>Success</th>\n",
       "    </tr>\n",
       "  </thead>\n",
       "  <tbody>\n",
       "  </tbody>\n",
       "</table>\n",
       "</div>"
      ],
      "text/plain": [
       "Empty DataFrame\n",
       "Columns: [Success]\n",
       "Index: []"
      ]
     },
     "execution_count": 14,
     "metadata": {},
     "output_type": "execute_result"
    }
   ],
   "source": [
    "%sql USE raw_db;\n",
    "%sql USE raw_db.billboard;"
   ]
  },
  {
   "cell_type": "code",
   "execution_count": 15,
   "id": "d8044a9d",
   "metadata": {},
   "outputs": [
    {
     "data": {
      "text/html": [
       "<div>\n",
       "<style scoped>\n",
       "    .dataframe tbody tr th:only-of-type {\n",
       "        vertical-align: middle;\n",
       "    }\n",
       "\n",
       "    .dataframe tbody tr th {\n",
       "        vertical-align: top;\n",
       "    }\n",
       "\n",
       "    .dataframe thead th {\n",
       "        text-align: right;\n",
       "    }\n",
       "</style>\n",
       "<table border=\"1\" class=\"dataframe\">\n",
       "  <thead>\n",
       "    <tr style=\"text-align: right;\">\n",
       "      <th></th>\n",
       "      <th>artist_id</th>\n",
       "      <th>artist_name</th>\n",
       "      <th>pct_female</th>\n",
       "      <th>last_update</th>\n",
       "    </tr>\n",
       "  </thead>\n",
       "  <tbody>\n",
       "    <tr>\n",
       "      <th>0</th>\n",
       "      <td>1</td>\n",
       "      <td>Zach Bryan</td>\n",
       "      <td>0.0</td>\n",
       "      <td>2024-08-23</td>\n",
       "    </tr>\n",
       "    <tr>\n",
       "      <th>1</th>\n",
       "      <td>2</td>\n",
       "      <td>Morgan Wallen</td>\n",
       "      <td>0.0</td>\n",
       "      <td>2024-08-23</td>\n",
       "    </tr>\n",
       "    <tr>\n",
       "      <th>2</th>\n",
       "      <td>3</td>\n",
       "      <td>Beyonce</td>\n",
       "      <td>1.0</td>\n",
       "      <td>2024-08-23</td>\n",
       "    </tr>\n",
       "    <tr>\n",
       "      <th>3</th>\n",
       "      <td>4</td>\n",
       "      <td>Megan Moroney</td>\n",
       "      <td>1.0</td>\n",
       "      <td>2024-08-23</td>\n",
       "    </tr>\n",
       "    <tr>\n",
       "      <th>4</th>\n",
       "      <td>5</td>\n",
       "      <td>Jelly Roll</td>\n",
       "      <td>0.0</td>\n",
       "      <td>2024-08-23</td>\n",
       "    </tr>\n",
       "    <tr>\n",
       "      <th>5</th>\n",
       "      <td>6</td>\n",
       "      <td>Luke Combs</td>\n",
       "      <td>0.0</td>\n",
       "      <td>2024-08-23</td>\n",
       "    </tr>\n",
       "    <tr>\n",
       "      <th>6</th>\n",
       "      <td>7</td>\n",
       "      <td>Dylan Scott</td>\n",
       "      <td>0.0</td>\n",
       "      <td>2024-08-23</td>\n",
       "    </tr>\n",
       "    <tr>\n",
       "      <th>7</th>\n",
       "      <td>8</td>\n",
       "      <td>Bailey Zimmerman</td>\n",
       "      <td>0.0</td>\n",
       "      <td>2024-08-23</td>\n",
       "    </tr>\n",
       "    <tr>\n",
       "      <th>8</th>\n",
       "      <td>9</td>\n",
       "      <td>Tucker Wetmore</td>\n",
       "      <td>0.0</td>\n",
       "      <td>2024-08-23</td>\n",
       "    </tr>\n",
       "    <tr>\n",
       "      <th>9</th>\n",
       "      <td>10</td>\n",
       "      <td>Cody Johnson</td>\n",
       "      <td>0.0</td>\n",
       "      <td>2024-08-23</td>\n",
       "    </tr>\n",
       "  </tbody>\n",
       "</table>\n",
       "</div>"
      ],
      "text/plain": [
       "   artist_id       artist_name  pct_female last_update\n",
       "0          1        Zach Bryan         0.0  2024-08-23\n",
       "1          2     Morgan Wallen         0.0  2024-08-23\n",
       "2          3           Beyonce         1.0  2024-08-23\n",
       "3          4     Megan Moroney         1.0  2024-08-23\n",
       "4          5        Jelly Roll         0.0  2024-08-23\n",
       "5          6        Luke Combs         0.0  2024-08-23\n",
       "6          7       Dylan Scott         0.0  2024-08-23\n",
       "7          8  Bailey Zimmerman         0.0  2024-08-23\n",
       "8          9    Tucker Wetmore         0.0  2024-08-23\n",
       "9         10      Cody Johnson         0.0  2024-08-23"
      ]
     },
     "execution_count": 15,
     "metadata": {},
     "output_type": "execute_result"
    }
   ],
   "source": [
    "%sql SELECT * FROM raw_db.billboard.artist LIMIT 10;"
   ]
  },
  {
   "cell_type": "code",
   "execution_count": 23,
   "id": "17bf33a1",
   "metadata": {},
   "outputs": [],
   "source": [
    "# Update this for this week's rankings\n",
    "rankings = [\n",
    "    'A Bar Song (Tipsy)'\n",
    "    , 'I Had Some Help'\n",
    "    , 'Pour Me A Drink'\n",
    "    , 'Cowgirls'\n",
    "    , \"Ain't No Love In Oklahoma\"\n",
    "    , 'Pink Skies'\n",
    "    , 'Guy For That'\n",
    "    , 'Lies Lies Lies'\n",
    "    , 'Miles On It'\n",
    "    , 'Austin'\n",
    "    , 'Wrong Ones' # Post Malone feat Tim McGraw\n",
    "    , 'Losers' # Post Malone feat Jelly Roll\n",
    "    , 'I Am Not Okay'\n",
    "    , 'California Sober' # Post Malone feat Chris Stapleton\n",
    "    , '28'\n",
    "    , \"What Don't Belong To Me\" # Post Malone\n",
    "    , 'Finer Things' # Post Malone feat Hank Williams\n",
    "    , 'Nosedive' # Post Malone feat Lainey Wilson\n",
    "    , 'High Road'\n",
    "    , 'Dirt Cheap'\n",
    "    , 'Yours' # Post Malone\n",
    "    , 'Have The Heart'\n",
    "    , 'Bulletproof'\n",
    "    , 'Whiskey Whiskey'\n",
    "    , 'Goes Without Saying' # Post Malone feat Brad Paisley\n",
    "    , 'You Look Like You Love Me'\n",
    "    , \"Missin' You Like This\" # Post Malone feat Luke Combs\n",
    "    , 'Hide My Gun' # Post Malone feat HARDY\n",
    "    , \"Devil I've Been\" # Post Malone feat ERNEST\n",
    "    , 'Chevrolet'\n",
    "    , 'Lonely Road'\n",
    "    , 'Hang Tight Honey'\n",
    "    , 'Never Love You Again' # Post Malone feat Sierra Ferrell\n",
    "    , \"Wind Up Missin' You\"\n",
    "    , 'M-E-X-I-C-O' # Post Malone feat Billy Strings\n",
    "    , 'Beautiful As You'\n",
    "    , \"Think I'm In Love With You\"\n",
    "    , 'Love You, Miss You, Mean It'\n",
    "    , 'Right About You' # Post Malone\n",
    "    , \"She's Somebody's Daughter (Reimagined)\"\n",
    "    , 'American Nights'\n",
    "    , 'Am I Okay?'\n",
    "    , 'Holy Smokes'\n",
    "    , 'Young Love & Saturday Nights'\n",
    "    , 'Love You Again'\n",
    "    , 'Sweet Dreams'\n",
    "    , 'Devil You Know'\n",
    "    , 'Worst Way'\n",
    "    , 'Relapse'\n",
    "    , 'Wanna Be Loved'\n",
    "]"
   ]
  },
  {
   "cell_type": "code",
   "execution_count": 84,
   "id": "4acf0183",
   "metadata": {},
   "outputs": [],
   "source": [
    "%%sql df_song <<\n",
    "SELECT\n",
    "    ss.song_id\n",
    "    , ss.song_name\n",
    "    , art.artist_name\n",
    "    , s2a.relationship_type\n",
    "    , ss.untracked_weeks_on_chart\n",
    "FROM song ss\n",
    "LEFT JOIN song_to_artist s2a\n",
    "    ON ss.song_id = s2a.song_id\n",
    "LEFT JOIN artist art\n",
    "    ON s2a.artist_id = art.artist_id\n",
    ";"
   ]
  },
  {
   "cell_type": "code",
   "execution_count": 86,
   "id": "9e03ad7a",
   "metadata": {},
   "outputs": [
    {
     "data": {
      "text/html": [
       "<div>\n",
       "<style scoped>\n",
       "    .dataframe tbody tr th:only-of-type {\n",
       "        vertical-align: middle;\n",
       "    }\n",
       "\n",
       "    .dataframe tbody tr th {\n",
       "        vertical-align: top;\n",
       "    }\n",
       "\n",
       "    .dataframe thead th {\n",
       "        text-align: right;\n",
       "    }\n",
       "</style>\n",
       "<table border=\"1\" class=\"dataframe\">\n",
       "  <thead>\n",
       "    <tr style=\"text-align: right;\">\n",
       "      <th></th>\n",
       "      <th>song_id</th>\n",
       "      <th>song_name</th>\n",
       "      <th>artist_name</th>\n",
       "      <th>relationship_type</th>\n",
       "      <th>untracked_weeks_on_chart</th>\n",
       "    </tr>\n",
       "  </thead>\n",
       "  <tbody>\n",
       "    <tr>\n",
       "      <th>0</th>\n",
       "      <td>1</td>\n",
       "      <td>I Remember Everything</td>\n",
       "      <td>Kacey Musgraves</td>\n",
       "      <td>Featured artist</td>\n",
       "      <td>21.0</td>\n",
       "    </tr>\n",
       "    <tr>\n",
       "      <th>1</th>\n",
       "      <td>9</td>\n",
       "      <td>Save Me</td>\n",
       "      <td>Lainey Wilson</td>\n",
       "      <td>Other main artist</td>\n",
       "      <td>34.0</td>\n",
       "    </tr>\n",
       "    <tr>\n",
       "      <th>2</th>\n",
       "      <td>17</td>\n",
       "      <td>Blackbiird</td>\n",
       "      <td>Reyna Roberts</td>\n",
       "      <td>Other main artist</td>\n",
       "      <td>0.0</td>\n",
       "    </tr>\n",
       "    <tr>\n",
       "      <th>3</th>\n",
       "      <td>21</td>\n",
       "      <td>Dirt Cheap</td>\n",
       "      <td>Cody Johnson</td>\n",
       "      <td>Lead artist</td>\n",
       "      <td>11.0</td>\n",
       "    </tr>\n",
       "    <tr>\n",
       "      <th>4</th>\n",
       "      <td>22</td>\n",
       "      <td>Think I'm In Love With You</td>\n",
       "      <td>Chris Stapleton</td>\n",
       "      <td>Lead artist</td>\n",
       "      <td>10.0</td>\n",
       "    </tr>\n",
       "  </tbody>\n",
       "</table>\n",
       "</div>"
      ],
      "text/plain": [
       "   song_id                   song_name      artist_name  relationship_type  \\\n",
       "0        1       I Remember Everything  Kacey Musgraves    Featured artist   \n",
       "1        9                     Save Me    Lainey Wilson  Other main artist   \n",
       "2       17                  Blackbiird    Reyna Roberts  Other main artist   \n",
       "3       21                  Dirt Cheap     Cody Johnson        Lead artist   \n",
       "4       22  Think I'm In Love With You  Chris Stapleton        Lead artist   \n",
       "\n",
       "   untracked_weeks_on_chart  \n",
       "0                      21.0  \n",
       "1                      34.0  \n",
       "2                       0.0  \n",
       "3                      11.0  \n",
       "4                      10.0  "
      ]
     },
     "execution_count": 86,
     "metadata": {},
     "output_type": "execute_result"
    }
   ],
   "source": [
    "df_song.head()"
   ]
  },
  {
   "cell_type": "code",
   "execution_count": 119,
   "id": "bd088f0c",
   "metadata": {},
   "outputs": [
    {
     "name": "stdout",
     "output_type": "stream",
     "text": [
      "|    |   song_id | song_name          | artist_name   | relationship_type   |   untracked_weeks_on_chart |\n",
      "|---:|----------:|:-------------------|:--------------|:--------------------|---------------------------:|\n",
      "| 16 |        34 | A Bar Song (Tipsy) | Shaboozey     | Lead artist         |                          0 |\n",
      "Please enter the song_id or 'New Song'\n",
      "34\n",
      "|    |   song_id | song_name       | artist_name   | relationship_type   |   untracked_weeks_on_chart |\n",
      "|---:|----------:|:----------------|:--------------|:--------------------|---------------------------:|\n",
      "| 20 |        38 | I Had Some Help | Morgan Wallen | Other main artist   |                          0 |\n",
      "| 62 |        38 | I Had Some Help | Post Malone   | Lead artist         |                          0 |\n",
      "Please enter the song_id or 'New Song'\n",
      "38\n",
      "|    |   song_id | song_name       | artist_name   | relationship_type   |   untracked_weeks_on_chart |\n",
      "|---:|----------:|:----------------|:--------------|:--------------------|---------------------------:|\n",
      "| 32 |        52 | Pour Me A Drink | Blake Shelton | Featured artist     |                          0 |\n",
      "| 64 |        52 | Pour Me A Drink | Post Malone   | Lead artist         |                          0 |\n",
      "Please enter the song_id or 'New Song'\n",
      "52\n",
      "|    |   song_id | song_name   | artist_name   | relationship_type   |   untracked_weeks_on_chart |\n",
      "|---:|----------:|:------------|:--------------|:--------------------|---------------------------:|\n",
      "| 14 |        32 | Cowgirls    | ERNEST        | Featured artist     |                         12 |\n",
      "| 60 |        32 | Cowgirls    | Morgan Wallen | Lead artist         |                         12 |\n",
      "Please enter the song_id or 'New Song'\n",
      "32\n",
      "|    |   song_id | song_name                 | artist_name   | relationship_type   |   untracked_weeks_on_chart |\n",
      "|---:|----------:|:--------------------------|:--------------|:--------------------|---------------------------:|\n",
      "| 22 |        40 | Ain't No Love In Oklahoma | Luke Combs    | Lead artist         |                          0 |\n",
      "Please enter the song_id or 'New Song'\n",
      "40\n",
      "|    |   song_id | song_name   | artist_name   | relationship_type   |   untracked_weeks_on_chart |\n",
      "|---:|----------:|:------------|:--------------|:--------------------|---------------------------:|\n",
      "| 25 |        43 | Pink Skies  | Zach Bryan    | Lead artist         |                          0 |\n",
      "Please enter the song_id or 'New Song'\n",
      "43\n",
      "|    |   song_id | song_name    | artist_name   | relationship_type   |   untracked_weeks_on_chart |\n",
      "|---:|----------:|:-------------|:--------------|:--------------------|---------------------------:|\n",
      "| 44 |        64 | Guy For That | Luke Combs    | Featured artist     |                          0 |\n",
      "| 69 |        64 | Guy For That | Post Malone   | Lead artist         |                          0 |\n",
      "Please enter the song_id or 'New Song'\n",
      "64\n",
      "|    |   song_id | song_name      | artist_name   | relationship_type   |   untracked_weeks_on_chart |\n",
      "|---:|----------:|:---------------|:--------------|:--------------------|---------------------------:|\n",
      "| 38 |        58 | Lies Lies Lies | Morgan Wallen | Lead artist         |                          0 |\n",
      "Please enter the song_id or 'New Song'\n",
      "58\n",
      "|    |   song_id | song_name   | artist_name   | relationship_type   |   untracked_weeks_on_chart |\n",
      "|---:|----------:|:------------|:--------------|:--------------------|---------------------------:|\n",
      "| 19 |        37 | Miles On It | Kane Brown    | Other main artist   |                          0 |\n",
      "| 61 |        37 | Miles On It | Marshmello    | Lead artist         |                          0 |\n",
      "Please enter the song_id or 'New Song'\n",
      "37\n",
      "|    |   song_id | song_name   | artist_name   | relationship_type   |   untracked_weeks_on_chart |\n",
      "|---:|----------:|:------------|:--------------|:--------------------|---------------------------:|\n",
      "|  9 |        27 | Austin      | Dasha         | Lead artist         |                          0 |\n",
      "Please enter the song_id or 'New Song'\n",
      "27\n",
      "| song_id   | song_name   | artist_name   | relationship_type   | untracked_weeks_on_chart   |\n",
      "|-----------|-------------|---------------|---------------------|----------------------------|\n",
      "Please enter the song_id or 'New Song'\n",
      "new song\n",
      "| song_id   | song_name   | artist_name   | relationship_type   | untracked_weeks_on_chart   |\n",
      "|-----------|-------------|---------------|---------------------|----------------------------|\n",
      "Please enter the song_id or 'New Song'\n",
      "new song\n",
      "|    |   song_id | song_name     | artist_name   | relationship_type   |   untracked_weeks_on_chart |\n",
      "|---:|----------:|:--------------|:--------------|:--------------------|---------------------------:|\n",
      "| 29 |        48 | I Am Not Okay | Jelly Roll    | Lead artist         |                          0 |\n",
      "Please enter the song_id or 'New Song'\n",
      "48\n"
     ]
    }
   ],
   "source": [
    "existing_song_to_rank = {}\n",
    "new_song_to_rank = {}\n",
    "counter = 0\n",
    "for song, rank_ix in zip(rankings, range(1,50)):\n",
    "    print(df_song.loc[df_song['song_name'] == song].to_markdown())\n",
    "    song_id = input(\"Please enter the song_id or 'New Song'\\n\")\n",
    "    if song_id.lower() == 'new song':\n",
    "        new_song_to_rank[song] = rank_ix\n",
    "    else:\n",
    "        existing_song_to_rank[int(song_id)] = rank_ix\n",
    "    \n",
    "    # Still testing, no need to do the whole list\n",
    "    counter += 1\n",
    "    if counter > 12:\n",
    "        break"
   ]
  },
  {
   "cell_type": "code",
   "execution_count": 120,
   "id": "385a5642",
   "metadata": {},
   "outputs": [
    {
     "name": "stdout",
     "output_type": "stream",
     "text": [
      "{\n",
      "  \"34\": 1,\n",
      "  \"38\": 2,\n",
      "  \"52\": 3,\n",
      "  \"32\": 4,\n",
      "  \"40\": 5,\n",
      "  \"43\": 6,\n",
      "  \"64\": 7,\n",
      "  \"58\": 8,\n",
      "  \"37\": 9,\n",
      "  \"27\": 10,\n",
      "  \"48\": 13\n",
      "}\n",
      "{\n",
      "  \"Wrong Ones\": 11,\n",
      "  \"Losers\": 12\n",
      "}\n"
     ]
    }
   ],
   "source": [
    "print(json.dumps(existing_song_to_rank, indent = 2))\n",
    "print(json.dumps(new_song_to_rank, indent = 2))"
   ]
  },
  {
   "cell_type": "code",
   "execution_count": 121,
   "id": "b41bdf6f",
   "metadata": {},
   "outputs": [],
   "source": [
    "## Add artists on any new songs that aren't in the artist table yet to its CSV"
   ]
  },
  {
   "cell_type": "code",
   "execution_count": 122,
   "id": "8202080f",
   "metadata": {},
   "outputs": [],
   "source": [
    "## Add all new songs to the song table CSV"
   ]
  },
  {
   "cell_type": "code",
   "execution_count": 123,
   "id": "46b87b3b",
   "metadata": {},
   "outputs": [],
   "source": [
    "## Add all new songs to the song_to_artist table CSV"
   ]
  },
  {
   "cell_type": "code",
   "execution_count": 124,
   "id": "701890a5",
   "metadata": {},
   "outputs": [],
   "source": [
    "## Convert new_song_to_rank to the id_to_rankix format of existing_song_to_rank"
   ]
  },
  {
   "cell_type": "code",
   "execution_count": 125,
   "id": "03a21c83",
   "metadata": {},
   "outputs": [],
   "source": [
    "## Stack the two dicts of songs and insert to CSV with more info like current_date for last_update"
   ]
  }
 ],
 "metadata": {
  "kernelspec": {
   "display_name": "Python 3",
   "language": "python",
   "name": "python3"
  },
  "language_info": {
   "codemirror_mode": {
    "name": "ipython",
    "version": 3
   },
   "file_extension": ".py",
   "mimetype": "text/x-python",
   "name": "python",
   "nbconvert_exporter": "python",
   "pygments_lexer": "ipython3",
   "version": "3.8.8"
  }
 },
 "nbformat": 4,
 "nbformat_minor": 5
}
